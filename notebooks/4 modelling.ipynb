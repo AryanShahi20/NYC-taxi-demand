{
 "cells": [
  {
   "cell_type": "markdown",
   "metadata": {},
   "source": [
    "# Modelling"
   ]
  },
  {
   "cell_type": "code",
   "execution_count": 1,
   "metadata": {
    "ExecuteTime": {
     "end_time": "2022-07-18T07:56:40.074555Z",
     "start_time": "2022-07-18T07:56:40.068541Z"
    }
   },
   "outputs": [
    {
     "name": "stdout",
     "output_type": "stream",
     "text": [
      "22/08/29 07:22:40 WARN Utils: Your hostname, AryansLaptop resolves to a loopback address: 127.0.1.1; using 172.18.205.204 instead (on interface eth0)\n",
      "22/08/29 07:22:40 WARN Utils: Set SPARK_LOCAL_IP if you need to bind to another address\n"
     ]
    },
    {
     "name": "stderr",
     "output_type": "stream",
     "text": [
      "Setting default log level to \"WARN\".\n",
      "To adjust logging level use sc.setLogLevel(newLevel). For SparkR, use setLogLevel(newLevel).\n"
     ]
    },
    {
     "name": "stdout",
     "output_type": "stream",
     "text": [
      "22/08/29 07:22:42 WARN NativeCodeLoader: Unable to load native-hadoop library for your platform... using builtin-java classes where applicable\n"
     ]
    }
   ],
   "source": [
    "from pyspark.sql import SparkSession, functions as F\n",
    "\n",
    "# Create a spark session (which will run spark jobs)\n",
    "spark = (\n",
    "    SparkSession.builder.appName(\"modelling\")\n",
    "    .config(\"spark.sql.repl.eagerEval.enabled\", True) \n",
    "    .config(\"spark.sql.parquet.cacheMetadata\", \"true\")\n",
    "    .config(\"spark.sql.session.timeZone\", \"Etc/UTC\")\n",
    "    .config(\"spark.driver.memory\", \"2g\")\n",
    "    .config(\"spark.executor.memory\", \"6g\")\n",
    "    .getOrCreate()\n",
    ")"
   ]
  },
  {
   "cell_type": "code",
   "execution_count": 2,
   "metadata": {},
   "outputs": [
    {
     "name": "stderr",
     "output_type": "stream",
     "text": [
      "                                                                                \r"
     ]
    },
    {
     "data": {
      "text/html": [
       "<table border='1'>\n",
       "<tr><th>PULocationID</th><th>count</th><th>temperature(f)</th><th>dew_point_temp(f)</th><th>relative_humidity</th><th>wind_speed</th><th>month</th><th>day</th><th>pickup_hour</th></tr>\n",
       "<tr><td>151</td><td>4</td><td>41.0</td><td>37.0</td><td>85.54</td><td>4.0</td><td>2</td><td>1</td><td>4</td></tr>\n",
       "<tr><td>238</td><td>13</td><td>39.9</td><td>36.0</td><td>85.81</td><td>6.0</td><td>2</td><td>1</td><td>6</td></tr>\n",
       "<tr><td>52</td><td>7</td><td>39.0</td><td>36.0</td><td>88.87</td><td>5.0</td><td>2</td><td>1</td><td>8</td></tr>\n",
       "<tr><td>87</td><td>17</td><td>39.0</td><td>36.0</td><td>88.87</td><td>5.0</td><td>2</td><td>1</td><td>8</td></tr>\n",
       "<tr><td>237</td><td>218</td><td>39.9</td><td>36.0</td><td>85.81</td><td>4.0</td><td>2</td><td>1</td><td>14</td></tr>\n",
       "</table>\n"
      ],
      "text/plain": [
       "+------------+-----+--------------+-----------------+-----------------+----------+-----+---+-----------+\n",
       "|PULocationID|count|temperature(f)|dew_point_temp(f)|relative_humidity|wind_speed|month|day|pickup_hour|\n",
       "+------------+-----+--------------+-----------------+-----------------+----------+-----+---+-----------+\n",
       "|         151|    4|          41.0|             37.0|            85.54|       4.0|    2|  1|          4|\n",
       "|         238|   13|          39.9|             36.0|            85.81|       6.0|    2|  1|          6|\n",
       "|          52|    7|          39.0|             36.0|            88.87|       5.0|    2|  1|          8|\n",
       "|          87|   17|          39.0|             36.0|            88.87|       5.0|    2|  1|          8|\n",
       "|         237|  218|          39.9|             36.0|            85.81|       4.0|    2|  1|         14|\n",
       "+------------+-----+--------------+-----------------+-----------------+----------+-----+---+-----------+"
      ]
     },
     "execution_count": 2,
     "metadata": {},
     "output_type": "execute_result"
    }
   ],
   "source": [
    "import matplotlib.pyplot as plt\n",
    "from pyspark.ml.feature import VectorAssembler\n",
    "from pyspark.ml.stat import Correlation\n",
    "\n",
    "sdf = spark.read.parquet('../data/curated/mergedf.paraquet')\n",
    "tdf = spark.read.parquet('../data/curated/testdf.paraquet')\n",
    "tdf.limit(5)"
   ]
  },
  {
   "cell_type": "code",
   "execution_count": 3,
   "metadata": {},
   "outputs": [
    {
     "data": {
      "text/plain": [
       "([Row(features=DenseVector([138.0, 3.0, 1.0, 10.0, 30.9, 8.0])),\n",
       "  Row(features=DenseVector([158.0, 3.0, 1.0, 17.0, 35.1, 6.0])),\n",
       "  Row(features=DenseVector([142.0, 3.0, 1.0, 20.0, 35.1, 7.0])),\n",
       "  Row(features=DenseVector([209.0, 3.0, 1.0, 23.0, 35.1, 9.0])),\n",
       "  Row(features=DenseVector([35.0, 3.0, 2.0, 1.0, 35.1, 11.0]))],\n",
       " [Row(count=278), Row(count=66), Row(count=146), Row(count=25), Row(count=2)])"
      ]
     },
     "execution_count": 3,
     "metadata": {},
     "output_type": "execute_result"
    }
   ],
   "source": [
    "# VectorAssembler creates new vectors from existing columns\n",
    "from pyspark.ml.feature import VectorAssembler\n",
    "\n",
    "features = 'features'\n",
    "input_cols = [\"PULocationID\",\"month\",\"day\",\"pickup_hour\",\"temperature(f)\",\"wind_speed\"]\n",
    "\n",
    "assembler = VectorAssembler(\n",
    "    # which column to combine\n",
    "    inputCols=input_cols, \n",
    "    # How should the combined columns be named\n",
    "    outputCol=features\n",
    ")\n",
    "\n",
    "model_sdf = assembler.transform(sdf.dropna('any'))\n",
    "# Display the features and targets for our model\n",
    "model_sdf.select('features').head(5), model_sdf.select('count').head(5)"
   ]
  },
  {
   "cell_type": "code",
   "execution_count": 4,
   "metadata": {},
   "outputs": [
    {
     "name": "stderr",
     "output_type": "stream",
     "text": [
      "                                                                                \r"
     ]
    }
   ],
   "source": [
    "from pyspark.ml.regression import DecisionTreeRegressor\n",
    "\n",
    "model = DecisionTreeRegressor(\n",
    "    featuresCol='features', \n",
    "    labelCol='count',\n",
    "    maxDepth=12,\n",
    "    maxBins=263\n",
    ").fit(model_sdf)"
   ]
  },
  {
   "cell_type": "code",
   "execution_count": 5,
   "metadata": {},
   "outputs": [
    {
     "name": "stdout",
     "output_type": "stream",
     "text": [
      "-RECORD 0------------------------\n",
      " features | [151.0,2.0,1.0,4.... \n",
      "only showing top 1 row\n",
      "\n"
     ]
    }
   ],
   "source": [
    "# preprocess for predictions\n",
    "predict_test = tdf.select(*input_cols)\n",
    "\n",
    "assembler = VectorAssembler(\n",
    "    inputCols=input_cols, \n",
    "    outputCol=features\n",
    ")\n",
    "\n",
    "predict_sdf = assembler.transform(predict_test).select(features)\n",
    "\n",
    "predict_sdf.show(1, vertical=True)"
   ]
  },
  {
   "cell_type": "code",
   "execution_count": 6,
   "metadata": {},
   "outputs": [
    {
     "data": {
      "text/html": [
       "<table border='1'>\n",
       "<tr><th>features</th><th>prediction</th></tr>\n",
       "<tr><td>[151.0,2.0,1.0,4....</td><td>5.674157303370786</td></tr>\n",
       "<tr><td>[238.0,2.0,1.0,6....</td><td>49.288184438040346</td></tr>\n",
       "<tr><td>[52.0,2.0,1.0,8.0...</td><td>12.124054462934946</td></tr>\n",
       "<tr><td>[87.0,2.0,1.0,8.0...</td><td>31.859716682712143</td></tr>\n",
       "<tr><td>[237.0,2.0,1.0,14...</td><td>310.3216619981326</td></tr>\n",
       "</table>\n"
      ],
      "text/plain": [
       "+--------------------+------------------+\n",
       "|            features|        prediction|\n",
       "+--------------------+------------------+\n",
       "|[151.0,2.0,1.0,4....| 5.674157303370786|\n",
       "|[238.0,2.0,1.0,6....|49.288184438040346|\n",
       "|[52.0,2.0,1.0,8.0...|12.124054462934946|\n",
       "|[87.0,2.0,1.0,8.0...|31.859716682712143|\n",
       "|[237.0,2.0,1.0,14...| 310.3216619981326|\n",
       "+--------------------+------------------+"
      ]
     },
     "execution_count": 6,
     "metadata": {},
     "output_type": "execute_result"
    }
   ],
   "source": [
    "predictions = model.transform(predict_sdf)\n",
    "predictions.limit(5)"
   ]
  },
  {
   "cell_type": "code",
   "execution_count": 7,
   "metadata": {},
   "outputs": [
    {
     "data": {
      "text/plain": [
       "array([[ 5.6741573 ],\n",
       "       [49.28818444],\n",
       "       [12.12405446],\n",
       "       ...,\n",
       "       [ 1.50366461],\n",
       "       [ 1.48739496],\n",
       "       [ 1.92091541]])"
      ]
     },
     "execution_count": 7,
     "metadata": {},
     "output_type": "execute_result"
    }
   ],
   "source": [
    "import numpy as np\n",
    "ytest =  np.array(tdf.select(\"count\").collect())\n",
    "ypred = np.array(predictions.select(\"prediction\").collect())\n",
    "ypred"
   ]
  },
  {
   "cell_type": "code",
   "execution_count": 8,
   "metadata": {},
   "outputs": [
    {
     "name": "stdout",
     "output_type": "stream",
     "text": [
      "16.57\n",
      "1 829 40.238589527386964 77.18504247654607\n"
     ]
    }
   ],
   "source": [
    "import numpy as np\n",
    "from sklearn.metrics import mean_absolute_error as mae\n",
    "print(np.round(mae(ytest,ypred), 2))\n",
    "print(ytest.min(),ytest.max(),ytest.mean(),ytest.std())"
   ]
  },
  {
   "cell_type": "code",
   "execution_count": 10,
   "metadata": {},
   "outputs": [
    {
     "data": {
      "image/png": "[encoded data removed]",
      "text/plain": [
       "<Figure size 640x480 with 1 Axes>"
      ]
     },
     "metadata": {},
     "output_type": "display_data"
    }
   ],
   "source": [
    "# Plots the actual and predicted values for decision trees\n",
    "\n",
    "from pyspark.sql import functions as F\n",
    "import matplotlib.pyplot as plt\n",
    "\n",
    "LOC = 132\n",
    "MONTH = 1\n",
    "DAY = 17\n",
    "\n",
    "# gets the values in the testdataframe that match with the randomly chosen values for the constants \n",
    "actual = tdf.filter(\n",
    "    (F.col(\"PULocationid\") == LOC)\n",
    "    & (F.col(\"month\") == MONTH)\n",
    "    & (F.col(\"day\") == DAY)\n",
    ").orderBy(\"pickup_hour\")\n",
    "actual\n",
    "\n",
    "# gets predictions for those location-month-day hour \n",
    "predict_test = actual.select(*input_cols)\n",
    "assembler = VectorAssembler(\n",
    "    inputCols=input_cols, \n",
    "    outputCol=features\n",
    ")\n",
    "predict_sdf = assembler.transform(predict_test).select(features)\n",
    "predictions = model.transform(predict_sdf)\n",
    "predictions = predictions.select(\"prediction\")\n",
    "predictions # one column array holding all the predictions for the given location-month-day rows\n",
    "\n",
    "df = actual.toPandas()\n",
    "dfp = predictions.toPandas()\n",
    "X = df[\"pickup_hour\"]  \n",
    "X_axis = np.arange(len(X)) \n",
    "plt.bar(X_axis - 0.2, df[\"count\"], 0.4, label = 'Actual')\n",
    "plt.bar(X_axis + 0.2, dfp[\"prediction\"], 0.4, label = 'Predicted')\n",
    "plt.legend()\n",
    "plt.xlabel('Hour')\n",
    "plt.ylabel('Number of Pickups')\n",
    "plt.title('Number of Pickups per Hour around JFK Airport 17/1/2019')\n",
    "plt.savefig(\"../plots/tree.png\")\n"
   ]
  },
  {
   "cell_type": "code",
   "execution_count": 11,
   "metadata": {},
   "outputs": [
    {
     "name": "stderr",
     "output_type": "stream",
     "text": [
      "                                                                                \r"
     ]
    },
    {
     "name": "stdout",
     "output_type": "stream",
     "text": [
      "22/08/29 07:24:34 WARN DAGScheduler: Broadcasting large task binary with size 1000.7 KiB\n",
      "22/08/29 07:24:39 WARN DAGScheduler: Broadcasting large task binary with size 1406.2 KiB\n"
     ]
    },
    {
     "name": "stderr",
     "output_type": "stream",
     "text": [
      "                                                                                \r"
     ]
    },
    {
     "name": "stdout",
     "output_type": "stream",
     "text": [
      "22/08/29 07:24:45 WARN DAGScheduler: Broadcasting large task binary with size 1104.9 KiB\n",
      "22/08/29 07:24:46 WARN DAGScheduler: Broadcasting large task binary with size 1933.8 KiB\n"
     ]
    },
    {
     "name": "stderr",
     "output_type": "stream",
     "text": [
      "                                                                                \r"
     ]
    },
    {
     "name": "stdout",
     "output_type": "stream",
     "text": [
      "22/08/29 07:24:52 WARN DAGScheduler: Broadcasting large task binary with size 1342.9 KiB\n",
      "22/08/29 07:24:53 WARN DAGScheduler: Broadcasting large task binary with size 2.3 MiB\n"
     ]
    },
    {
     "name": "stderr",
     "output_type": "stream",
     "text": [
      "                                                                                \r"
     ]
    },
    {
     "name": "stdout",
     "output_type": "stream",
     "text": [
      "22/08/29 07:24:59 WARN DAGScheduler: Broadcasting large task binary with size 1604.9 KiB\n"
     ]
    },
    {
     "name": "stderr",
     "output_type": "stream",
     "text": [
      "                                                                                \r"
     ]
    },
    {
     "name": "stdout",
     "output_type": "stream",
     "text": [
      "22/08/29 07:25:00 WARN DAGScheduler: Broadcasting large task binary with size 2.8 MiB\n"
     ]
    },
    {
     "name": "stderr",
     "output_type": "stream",
     "text": [
      "                                                                                \r"
     ]
    },
    {
     "name": "stdout",
     "output_type": "stream",
     "text": [
      "22/08/29 07:25:07 WARN DAGScheduler: Broadcasting large task binary with size 1049.5 KiB\n",
      "22/08/29 07:25:08 WARN DAGScheduler: Broadcasting large task binary with size 1897.7 KiB\n"
     ]
    },
    {
     "name": "stderr",
     "output_type": "stream",
     "text": [
      "                                                                                \r"
     ]
    },
    {
     "name": "stdout",
     "output_type": "stream",
     "text": [
      "22/08/29 07:25:09 WARN DAGScheduler: Broadcasting large task binary with size 3.3 MiB\n"
     ]
    },
    {
     "name": "stderr",
     "output_type": "stream",
     "text": [
      "                                                                                \r"
     ]
    },
    {
     "name": "stdout",
     "output_type": "stream",
     "text": [
      "22/08/29 07:25:18 WARN DAGScheduler: Broadcasting large task binary with size 1199.5 KiB\n",
      "22/08/29 07:25:19 WARN DAGScheduler: Broadcasting large task binary with size 2.1 MiB\n"
     ]
    },
    {
     "name": "stderr",
     "output_type": "stream",
     "text": [
      "                                                                                \r"
     ]
    },
    {
     "name": "stdout",
     "output_type": "stream",
     "text": [
      "22/08/29 07:25:20 WARN DAGScheduler: Broadcasting large task binary with size 3.8 MiB\n"
     ]
    },
    {
     "name": "stderr",
     "output_type": "stream",
     "text": [
      "[Stage 299:==========================================>            (10 + 3) / 13]\r"
     ]
    },
    {
     "name": "stdout",
     "output_type": "stream",
     "text": [
      "22/08/29 07:25:22 WARN DAGScheduler: Broadcasting large task binary with size 1048.3 KiB\n"
     ]
    },
    {
     "name": "stderr",
     "output_type": "stream",
     "text": [
      "                                                                                \r"
     ]
    },
    {
     "name": "stdout",
     "output_type": "stream",
     "text": [
      "22/08/29 07:25:29 WARN DAGScheduler: Broadcasting large task binary with size 1320.2 KiB\n"
     ]
    },
    {
     "name": "stderr",
     "output_type": "stream",
     "text": [
      "                                                                                \r"
     ]
    },
    {
     "name": "stdout",
     "output_type": "stream",
     "text": [
      "22/08/29 07:25:30 WARN DAGScheduler: Broadcasting large task binary with size 2.3 MiB\n"
     ]
    },
    {
     "name": "stderr",
     "output_type": "stream",
     "text": [
      "                                                                                \r"
     ]
    },
    {
     "name": "stdout",
     "output_type": "stream",
     "text": [
      "22/08/29 07:25:31 WARN DAGScheduler: Broadcasting large task binary with size 4.2 MiB\n"
     ]
    },
    {
     "name": "stderr",
     "output_type": "stream",
     "text": [
      "[Stage 329:==============================================>        (11 + 2) / 13]\r"
     ]
    },
    {
     "name": "stdout",
     "output_type": "stream",
     "text": [
      "22/08/29 07:25:34 WARN DAGScheduler: Broadcasting large task binary with size 1181.8 KiB\n"
     ]
    },
    {
     "name": "stderr",
     "output_type": "stream",
     "text": [
      "                                                                                \r"
     ]
    },
    {
     "name": "stdout",
     "output_type": "stream",
     "text": [
      "22/08/29 07:25:41 WARN DAGScheduler: Broadcasting large task binary with size 1423.9 KiB\n"
     ]
    },
    {
     "name": "stderr",
     "output_type": "stream",
     "text": [
      "                                                                                \r"
     ]
    },
    {
     "name": "stdout",
     "output_type": "stream",
     "text": [
      "22/08/29 07:25:42 WARN DAGScheduler: Broadcasting large task binary with size 2.5 MiB\n"
     ]
    },
    {
     "name": "stderr",
     "output_type": "stream",
     "text": [
      "                                                                                \r"
     ]
    },
    {
     "name": "stdout",
     "output_type": "stream",
     "text": [
      "22/08/29 07:25:44 WARN DAGScheduler: Broadcasting large task binary with size 4.5 MiB\n"
     ]
    },
    {
     "name": "stderr",
     "output_type": "stream",
     "text": [
      "[Stage 359:==============================>                         (7 + 6) / 13]\r"
     ]
    },
    {
     "name": "stdout",
     "output_type": "stream",
     "text": [
      "22/08/29 07:25:46 WARN DAGScheduler: Broadcasting large task binary with size 1279.8 KiB\n"
     ]
    },
    {
     "name": "stderr",
     "output_type": "stream",
     "text": [
      "                                                                                \r"
     ]
    },
    {
     "name": "stdout",
     "output_type": "stream",
     "text": [
      "[1, 2, 3, 4, 5, 6, 7, 8, 9, 10]\n",
      "[16.68, 39.84, 35.54, 37.25, 35.68, 36.86, 36.46, 36.38, 35.66, 33.92]\n"
     ]
    }
   ],
   "source": [
    "# finds the mean average error for differnt num tree params\n",
    "\n",
    "from pyspark.ml.regression import RandomForestRegressor\n",
    "\n",
    "x=[]\n",
    "y=[]\n",
    "# goes through num tree param 1 by 1 building a new model over each\n",
    "for i in range(1,11):\n",
    "    model = RandomForestRegressor(\n",
    "        featuresCol='features',\n",
    "        labelCol='count',\n",
    "        maxDepth=12,\n",
    "        maxBins=263,\n",
    "        numTrees=i\n",
    "    ).fit(model_sdf)\n",
    "\n",
    "    predict_test = tdf.select(*input_cols)\n",
    "    assembler = VectorAssembler(\n",
    "        inputCols=input_cols, \n",
    "        outputCol=features\n",
    "    )\n",
    "    predict_sdf = assembler.transform(predict_test).select(features)\n",
    "    predictions = model.transform(predict_sdf)\n",
    "\n",
    "    ytest =  np.array(tdf.select(\"count\").collect())\n",
    "    ypred = np.array(predictions.select(\"prediction\").collect())\n",
    "\n",
    "    y.append(np.round(mae(ytest,ypred), 2))\n",
    "    x.append(i)\n",
    "print(x)\n",
    "print(y)\n"
   ]
  },
  {
   "cell_type": "code",
   "execution_count": 12,
   "metadata": {},
   "outputs": [
    {
     "data": {
      "image/png": "[encoded data removed]",
      "text/plain": [
       "<Figure size 640x480 with 1 Axes>"
      ]
     },
     "metadata": {},
     "output_type": "display_data"
    }
   ],
   "source": [
    "# Plots the mean absolute error values for each every random forest variation\n",
    "\n",
    "plt.bar(x,y)\n",
    "plt.xlabel('Number of Trees')\n",
    "plt.ylabel('Mean Absolute Error')\n",
    "plt.title('Number of Trees Hyperparamater Tuning')\n",
    "plt.savefig(\"../plots/param.png\")"
   ]
  }
 ],
 "metadata": {
  "kernelspec": {
   "display_name": "Python 3.10.4 64-bit",
   "language": "python",
   "name": "python3"
  },
  "language_info": {
   "codemirror_mode": {
    "name": "ipython",
    "version": 3
   },
   "file_extension": ".py",
   "mimetype": "text/x-python",
   "name": "python",
   "nbconvert_exporter": "python",
   "pygments_lexer": "ipython3",
   "version": "3.10.4"
  },
  "latex_envs": {
   "LaTeX_envs_menu_present": true,
   "autoclose": false,
   "autocomplete": true,
   "bibliofile": "biblio.bib",
   "cite_by": "apalike",
   "current_citInitial": 1,
   "eqLabelWithNumbers": true,
   "eqNumInitial": 1,
   "hotkeys": {
    "equation": "Ctrl-E",
    "itemize": "Ctrl-I"
   },
   "labels_anchors": false,
   "latex_user_defs": false,
   "report_style_numbering": false,
   "user_envs_cfg": false
  },
  "toc": {
   "base_numbering": 1,
   "nav_menu": {},
   "number_sections": true,
   "sideBar": true,
   "skip_h1_title": false,
   "title_cell": "Table of Contents",
   "title_sidebar": "Contents",
   "toc_cell": false,
   "toc_position": {},
   "toc_section_display": true,
   "toc_window_display": false
  },
  "varInspector": {
   "cols": {
    "lenName": 16,
    "lenType": 16,
    "lenVar": 40
   },
   "kernels_config": {
    "python": {
     "delete_cmd_postfix": "",
     "delete_cmd_prefix": "del ",
     "library": "var_list.py",
     "varRefreshCmd": "print(var_dic_list())"
    },
    "r": {
     "delete_cmd_postfix": ") ",
     "delete_cmd_prefix": "rm(",
     "library": "var_list.r",
     "varRefreshCmd": "cat(var_dic_list()) "
    }
   },
   "types_to_exclude": [
    "module",
    "function",
    "builtin_function_or_method",
    "instance",
    "_Feature"
   ],
   "window_display": false
  },
  "vscode": {
   "interpreter": {
    "hash": "916dbcbb3f70747c44a77c7bcd40155683ae19c65e1c03b4aa3499c5328201f1"
   }
  }
 },
 "nbformat": 4,
 "nbformat_minor": 4
}
