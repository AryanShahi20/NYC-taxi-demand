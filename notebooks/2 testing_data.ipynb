{
 "cells": [
  {
   "cell_type": "markdown",
   "metadata": {},
   "source": [
    "# Testing Data"
   ]
  },
  {
   "cell_type": "code",
   "execution_count": 3,
   "metadata": {
    "ExecuteTime": {
     "end_time": "2022-07-31T02:21:57.281515Z",
     "start_time": "2022-07-31T02:21:56.386618Z"
    }
   },
   "outputs": [
    {
     "name": "stdout",
     "output_type": "stream",
     "text": [
      "Begin month 01\n",
      "Completed month 01\n",
      "Begin month 02\n",
      "Completed month 02\n"
     ]
    }
   ],
   "source": [
    "# Retrives the train taxi dataset\n",
    "\n",
    "from urllib.request import urlretrieve\n",
    "import os\n",
    "\n",
    "YEAR = '2020'\n",
    "MONTHS = range(1, 3)\n",
    "URL_TEMPLATE = \"https://d37ci6vzurychx.cloudfront.net/trip-data/yellow_tripdata_\"\n",
    "\n",
    "tlc_output_dir = '../data/raw/tlc_2020'\n",
    "if not os.path.exists(tlc_output_dir):\n",
    "    os.makedirs(tlc_output_dir)\n",
    "\n",
    "for month in MONTHS:\n",
    "    \n",
    "    month = str(month).zfill(2) \n",
    "    print(f\"Begin month {month}\")\n",
    "    \n",
    "    # generate url\n",
    "    url = f'{URL_TEMPLATE}{YEAR}-{month}.parquet'\n",
    "    # generate output location and filename\n",
    "    output_dir = f\"{tlc_output_dir}/{YEAR}-{month}.parquet\"\n",
    "    # download\n",
    "    urlretrieve(url, output_dir) \n",
    "    \n",
    "    print(f\"Completed month {month}\")"
   ]
  },
  {
   "cell_type": "code",
   "execution_count": 4,
   "metadata": {
    "ExecuteTime": {
     "end_time": "2022-07-31T02:22:01.919813Z",
     "start_time": "2022-07-31T02:21:57.283647Z"
    }
   },
   "outputs": [
    {
     "name": "stdout",
     "output_type": "stream",
     "text": [
      "22/08/29 06:55:18 WARN Utils: Your hostname, AryansLaptop resolves to a loopback address: 127.0.1.1; using 172.18.205.204 instead (on interface eth0)\n",
      "22/08/29 06:55:18 WARN Utils: Set SPARK_LOCAL_IP if you need to bind to another address\n"
     ]
    },
    {
     "name": "stderr",
     "output_type": "stream",
     "text": [
      "Setting default log level to \"WARN\".\n",
      "To adjust logging level use sc.setLogLevel(newLevel). For SparkR, use setLogLevel(newLevel).\n"
     ]
    },
    {
     "name": "stdout",
     "output_type": "stream",
     "text": [
      "22/08/29 06:55:20 WARN NativeCodeLoader: Unable to load native-hadoop library for your platform... using builtin-java classes where applicable\n"
     ]
    }
   ],
   "source": [
    "from pyspark.sql import SparkSession\n",
    "\n",
    "# Create a spark session\n",
    "spark = (\n",
    "    SparkSession.builder.appName(\"testing_data\")\n",
    "    .config(\"spark.sql.repl.eagerEval.enabled\", True) \n",
    "    .config(\"spark.sql.parquet.cacheMetadata\", \"true\")\n",
    "    .config(\"spark.sql.session.timeZone\", \"Etc/UTC\")\n",
    "    .config(\"spark.driver.memory\", \"2g\")\n",
    "    .config(\"spark.executor.memory\", \"6g\")\n",
    "    .getOrCreate()\n",
    ")"
   ]
  },
  {
   "cell_type": "code",
   "execution_count": 5,
   "metadata": {},
   "outputs": [
    {
     "name": "stdout",
     "output_type": "stream",
     "text": [
      "22/08/29 06:55:38 WARN package: Truncated the string representation of a plan since it was too large. This behavior can be adjusted by setting 'spark.sql.debug.maxToStringFields'.\n"
     ]
    },
    {
     "data": {
      "text/html": [
       "<table border='1'>\n",
       "<tr><th>station</th><th>valid</th><th>tmpf</th><th>dwpf</th><th>relh</th><th>drct</th><th>sknt</th><th>p01i</th><th>alti</th><th>mslp</th><th>vsby</th><th>gust</th><th>skyc1</th><th>skyc2</th><th>skyc3</th><th>skyc4</th><th>skyl1</th><th>skyl2</th><th>skyl3</th><th>skyl4</th><th>wxcodes</th><th>ice_accretion_1hr</th><th>ice_accretion_3hr</th><th>ice_accretion_6hr</th><th>peak_wind_gust</th><th>peak_wind_drct</th><th>peak_wind_time</th><th>feel</th><th>metar</th><th>snowdepth</th></tr>\n",
       "<tr><td>JRB</td><td>2020-01-01 00:56</td><td>44.10</td><td>37.90</td><td>78.66</td><td>260.00</td><td>7.00</td><td>0.00</td><td>29.64</td><td>1003.70</td><td>null</td><td>null</td><td>OVC</td><td>null</td><td>null</td><td>null</td><td>5000.00</td><td>null</td><td>null</td><td>null</td><td>null</td><td>null</td><td>null</td><td>null</td><td>null</td><td>null</td><td>null</td><td>39.53</td><td>KJRB 010056Z AUTO...</td><td>null</td></tr>\n",
       "<tr><td>JRB</td><td>2020-01-01 01:56</td><td>43.00</td><td>36.00</td><td>76.12</td><td>260.00</td><td>9.00</td><td>0.00</td><td>29.66</td><td>1004.20</td><td>null</td><td>19.00</td><td>FEW</td><td>SCT</td><td>OVC</td><td>null</td><td>2100.00</td><td>3900.00</td><td>4500.00</td><td>null</td><td>null</td><td>null</td><td>null</td><td>null</td><td>null</td><td>null</td><td>null</td><td>37.19</td><td>KJRB 010156Z AUTO...</td><td>null</td></tr>\n",
       "<tr><td>JRB</td><td>2020-01-01 02:56</td><td>42.10</td><td>35.10</td><td>76.04</td><td>260.00</td><td>10.00</td><td>0.00</td><td>29.65</td><td>1003.90</td><td>null</td><td>17.00</td><td>OVC</td><td>null</td><td>null</td><td>null</td><td>5000.00</td><td>null</td><td>null</td><td>null</td><td>null</td><td>null</td><td>null</td><td>null</td><td>null</td><td>null</td><td>null</td><td>35.63</td><td>KJRB 010256Z AUTO...</td><td>null</td></tr>\n",
       "<tr><td>JRB</td><td>2020-01-01 03:56</td><td>42.10</td><td>34.00</td><td>72.78</td><td>260.00</td><td>8.00</td><td>0.00</td><td>29.65</td><td>1004.10</td><td>null</td><td>14.00</td><td>FEW</td><td>BKN</td><td>OVC</td><td>null</td><td>4600.00</td><td>6000.00</td><td>7500.00</td><td>null</td><td>null</td><td>null</td><td>null</td><td>null</td><td>null</td><td>null</td><td>null</td><td>36.55</td><td>KJRB 010356Z AUTO...</td><td>null</td></tr>\n",
       "<tr><td>JRB</td><td>2020-01-01 04:56</td><td>41.00</td><td>30.90</td><td>67.03</td><td>260.00</td><td>12.00</td><td>0.00</td><td>29.66</td><td>1004.40</td><td>null</td><td>18.00</td><td>OVC</td><td>null</td><td>null</td><td>null</td><td>6000.00</td><td>null</td><td>null</td><td>null</td><td>null</td><td>null</td><td>null</td><td>null</td><td>null</td><td>null</td><td>null</td><td>33.46</td><td>KJRB 010456Z AUTO...</td><td>null</td></tr>\n",
       "</table>\n"
      ],
      "text/plain": [
       "+-------+----------------+-----+-----+-----+------+-----+----+-----+-------+----+-----+-----+-----+-----+-----+-------+-------+-------+-----+-------+-----------------+-----------------+-----------------+--------------+--------------+--------------+-----+--------------------+---------+\n",
       "|station|           valid| tmpf| dwpf| relh|  drct| sknt|p01i| alti|   mslp|vsby| gust|skyc1|skyc2|skyc3|skyc4|  skyl1|  skyl2|  skyl3|skyl4|wxcodes|ice_accretion_1hr|ice_accretion_3hr|ice_accretion_6hr|peak_wind_gust|peak_wind_drct|peak_wind_time| feel|               metar|snowdepth|\n",
       "+-------+----------------+-----+-----+-----+------+-----+----+-----+-------+----+-----+-----+-----+-----+-----+-------+-------+-------+-----+-------+-----------------+-----------------+-----------------+--------------+--------------+--------------+-----+--------------------+---------+\n",
       "|    JRB|2020-01-01 00:56|44.10|37.90|78.66|260.00| 7.00|0.00|29.64|1003.70|null| null|  OVC| null| null| null|5000.00|   null|   null| null|   null|             null|             null|             null|          null|          null|          null|39.53|KJRB 010056Z AUTO...|     null|\n",
       "|    JRB|2020-01-01 01:56|43.00|36.00|76.12|260.00| 9.00|0.00|29.66|1004.20|null|19.00|  FEW|  SCT|  OVC| null|2100.00|3900.00|4500.00| null|   null|             null|             null|             null|          null|          null|          null|37.19|KJRB 010156Z AUTO...|     null|\n",
       "|    JRB|2020-01-01 02:56|42.10|35.10|76.04|260.00|10.00|0.00|29.65|1003.90|null|17.00|  OVC| null| null| null|5000.00|   null|   null| null|   null|             null|             null|             null|          null|          null|          null|35.63|KJRB 010256Z AUTO...|     null|\n",
       "|    JRB|2020-01-01 03:56|42.10|34.00|72.78|260.00| 8.00|0.00|29.65|1004.10|null|14.00|  FEW|  BKN|  OVC| null|4600.00|6000.00|7500.00| null|   null|             null|             null|             null|          null|          null|          null|36.55|KJRB 010356Z AUTO...|     null|\n",
       "|    JRB|2020-01-01 04:56|41.00|30.90|67.03|260.00|12.00|0.00|29.66|1004.40|null|18.00|  OVC| null| null| null|6000.00|   null|   null| null|   null|             null|             null|             null|          null|          null|          null|33.46|KJRB 010456Z AUTO...|     null|\n",
       "+-------+----------------+-----+-----+-----+------+-----+----+-----+-------+----+-----+-----+-----+-----+-----+-------+-------+-------+-----+-------+-----------------+-----------------+-----------------+--------------+--------------+--------------+-----+--------------------+---------+"
      ]
     },
     "execution_count": 5,
     "metadata": {},
     "output_type": "execute_result"
    }
   ],
   "source": [
    "# reads in weather test dataset\n",
    "\n",
    "tempdf = spark.read.option(\"header\", \"true\").csv(\"../data/raw/JRB-test.tsv\",sep='\\t')\n",
    "tempdf.limit(5)"
   ]
  },
  {
   "cell_type": "code",
   "execution_count": 6,
   "metadata": {},
   "outputs": [
    {
     "data": {
      "text/html": [
       "<table border='1'>\n",
       "<tr><th>valid</th><th>tmpf</th><th>dwpf</th><th>relh</th><th>sknt</th></tr>\n",
       "<tr><td>2020-01-01 00:56</td><td>44.10</td><td>37.90</td><td>78.66</td><td>7.00</td></tr>\n",
       "<tr><td>2020-01-01 01:56</td><td>43.00</td><td>36.00</td><td>76.12</td><td>9.00</td></tr>\n",
       "<tr><td>2020-01-01 02:56</td><td>42.10</td><td>35.10</td><td>76.04</td><td>10.00</td></tr>\n",
       "<tr><td>2020-01-01 03:56</td><td>42.10</td><td>34.00</td><td>72.78</td><td>8.00</td></tr>\n",
       "<tr><td>2020-01-01 04:56</td><td>41.00</td><td>30.90</td><td>67.03</td><td>12.00</td></tr>\n",
       "</table>\n"
      ],
      "text/plain": [
       "+----------------+-----+-----+-----+-----+\n",
       "|           valid| tmpf| dwpf| relh| sknt|\n",
       "+----------------+-----+-----+-----+-----+\n",
       "|2020-01-01 00:56|44.10|37.90|78.66| 7.00|\n",
       "|2020-01-01 01:56|43.00|36.00|76.12| 9.00|\n",
       "|2020-01-01 02:56|42.10|35.10|76.04|10.00|\n",
       "|2020-01-01 03:56|42.10|34.00|72.78| 8.00|\n",
       "|2020-01-01 04:56|41.00|30.90|67.03|12.00|\n",
       "+----------------+-----+-----+-----+-----+"
      ]
     },
     "execution_count": 6,
     "metadata": {},
     "output_type": "execute_result"
    }
   ],
   "source": [
    "# feature selection and dropping of null\n",
    "\n",
    "tempdf = tempdf.select(\"valid\",\"tmpf\",\"dwpf\",\"relh\",\"sknt\")\n",
    "tempdf = tempdf.dropna(\"any\")\n",
    "tempdf.limit(5)"
   ]
  },
  {
   "cell_type": "code",
   "execution_count": 7,
   "metadata": {},
   "outputs": [
    {
     "data": {
      "text/html": [
       "<table border='1'>\n",
       "<tr><th>temperature(f)</th><th>dew_point_temp(f)</th><th>relative_humidity</th><th>wind_speed</th><th>month-day-hr</th><th>month</th><th>day</th><th>pickup_hour</th></tr>\n",
       "<tr><td>44.1</td><td>37.9</td><td>78.66</td><td>7.0</td><td>January-01-00</td><td>1</td><td>1</td><td>0</td></tr>\n",
       "<tr><td>43.0</td><td>36.0</td><td>76.12</td><td>9.0</td><td>January-01-01</td><td>1</td><td>1</td><td>1</td></tr>\n",
       "<tr><td>42.1</td><td>35.1</td><td>76.04</td><td>10.0</td><td>January-01-02</td><td>1</td><td>1</td><td>2</td></tr>\n",
       "<tr><td>42.1</td><td>34.0</td><td>72.78</td><td>8.0</td><td>January-01-03</td><td>1</td><td>1</td><td>3</td></tr>\n",
       "<tr><td>41.0</td><td>30.9</td><td>67.03</td><td>12.0</td><td>January-01-04</td><td>1</td><td>1</td><td>4</td></tr>\n",
       "</table>\n"
      ],
      "text/plain": [
       "+--------------+-----------------+-----------------+----------+-------------+-----+---+-----------+\n",
       "|temperature(f)|dew_point_temp(f)|relative_humidity|wind_speed| month-day-hr|month|day|pickup_hour|\n",
       "+--------------+-----------------+-----------------+----------+-------------+-----+---+-----------+\n",
       "|          44.1|             37.9|            78.66|       7.0|January-01-00|    1|  1|          0|\n",
       "|          43.0|             36.0|            76.12|       9.0|January-01-01|    1|  1|          1|\n",
       "|          42.1|             35.1|            76.04|      10.0|January-01-02|    1|  1|          2|\n",
       "|          42.1|             34.0|            72.78|       8.0|January-01-03|    1|  1|          3|\n",
       "|          41.0|             30.9|            67.03|      12.0|January-01-04|    1|  1|          4|\n",
       "+--------------+-----------------+-----------------+----------+-------------+-----+---+-----------+"
      ]
     },
     "execution_count": 7,
     "metadata": {},
     "output_type": "execute_result"
    }
   ],
   "source": [
    "# same transformations as train set\n",
    "\n",
    "from pyspark.sql.functions import *\n",
    "\n",
    "tempdf = tempdf.withColumn(\"month-day-hr\", date_format(col(\"valid\"), \"MMMM-dd-HH\"))\n",
    "tempdf = tempdf.withColumn(\"month\", date_format(col(\"valid\"), \"MM\").cast(\"long\"))\n",
    "tempdf = tempdf.withColumn(\"day\", date_format(col(\"valid\"), \"dd\").cast(\"long\"))\n",
    "tempdf = tempdf.withColumn(\"pickup_hour\", date_format(col(\"valid\"), \"HH\").cast(\"long\"))\n",
    "tempdf = tempdf.drop(\"valid\")\n",
    "\n",
    "tempdf = tempdf.withColumnRenamed(\"tmpf\",\"temperature(f)\")\n",
    "tempdf = tempdf.withColumnRenamed(\"dwpf\",\"dew_point_temp(f)\")\n",
    "tempdf = tempdf.withColumnRenamed(\"relh\",\"relative_humidity\")\n",
    "tempdf = tempdf.withColumnRenamed(\"sknt\",\"wind_speed\")\n",
    "\n",
    "for field in ('temperature(f)',\"dew_point_temp(f)\",\"relative_humidity\",\"wind_speed\"):\n",
    "    tempdf = tempdf.withColumn(\n",
    "        field,\n",
    "        col(field).cast('double')\n",
    "    )\n",
    "\n",
    "tempdf.limit(5)"
   ]
  },
  {
   "cell_type": "code",
   "execution_count": 10,
   "metadata": {},
   "outputs": [
    {
     "data": {
      "text/plain": [
       "StructType([StructField('temperature(f)', DoubleType(), True), StructField('dew_point_temp(f)', DoubleType(), True), StructField('relative_humidity', DoubleType(), True), StructField('wind_speed', DoubleType(), True), StructField('month-day-hr', StringType(), True), StructField('month', LongType(), True), StructField('day', LongType(), True), StructField('pickup_hour', LongType(), True)])"
      ]
     },
     "execution_count": 10,
     "metadata": {},
     "output_type": "execute_result"
    }
   ],
   "source": [
    "tempdf.schema"
   ]
  },
  {
   "cell_type": "code",
   "execution_count": 8,
   "metadata": {
    "ExecuteTime": {
     "end_time": "2022-07-31T02:22:06.991208Z",
     "start_time": "2022-07-31T02:22:01.921457Z"
    }
   },
   "outputs": [
    {
     "name": "stderr",
     "output_type": "stream",
     "text": [
      "                                                                                \r"
     ]
    },
    {
     "data": {
      "text/html": [
       "<table border='1'>\n",
       "<tr><th>VendorID</th><th>tpep_pickup_datetime</th><th>tpep_dropoff_datetime</th><th>passenger_count</th><th>trip_distance</th><th>RatecodeID</th><th>store_and_fwd_flag</th><th>PULocationID</th><th>DOLocationID</th><th>payment_type</th><th>fare_amount</th><th>extra</th><th>mta_tax</th><th>tip_amount</th><th>tolls_amount</th><th>improvement_surcharge</th><th>total_amount</th><th>congestion_surcharge</th><th>airport_fee</th></tr>\n",
       "<tr><td>1</td><td>2020-02-01 00:17:35</td><td>2020-02-01 00:30:32</td><td>1.0</td><td>2.6</td><td>1.0</td><td>N</td><td>145</td><td>7</td><td>1</td><td>11.0</td><td>0.5</td><td>0.5</td><td>2.45</td><td>0.0</td><td>0.3</td><td>14.75</td><td>0.0</td><td>null</td></tr>\n",
       "<tr><td>1</td><td>2020-02-01 00:32:47</td><td>2020-02-01 01:05:36</td><td>1.0</td><td>4.8</td><td>1.0</td><td>N</td><td>45</td><td>61</td><td>1</td><td>21.5</td><td>3.0</td><td>0.5</td><td>6.3</td><td>0.0</td><td>0.3</td><td>31.6</td><td>2.5</td><td>null</td></tr>\n",
       "<tr><td>1</td><td>2020-02-01 00:31:44</td><td>2020-02-01 00:43:28</td><td>1.0</td><td>3.2</td><td>1.0</td><td>N</td><td>186</td><td>140</td><td>1</td><td>11.0</td><td>3.0</td><td>0.5</td><td>1.0</td><td>0.0</td><td>0.3</td><td>15.8</td><td>2.5</td><td>null</td></tr>\n",
       "<tr><td>2</td><td>2020-02-01 00:07:35</td><td>2020-02-01 00:31:39</td><td>1.0</td><td>4.38</td><td>1.0</td><td>N</td><td>144</td><td>140</td><td>1</td><td>18.0</td><td>0.5</td><td>0.5</td><td>3.0</td><td>0.0</td><td>0.3</td><td>24.8</td><td>2.5</td><td>null</td></tr>\n",
       "<tr><td>2</td><td>2020-02-01 00:51:43</td><td>2020-02-01 01:01:29</td><td>1.0</td><td>2.28</td><td>1.0</td><td>N</td><td>238</td><td>152</td><td>2</td><td>9.5</td><td>0.5</td><td>0.5</td><td>0.0</td><td>0.0</td><td>0.3</td><td>10.8</td><td>0.0</td><td>null</td></tr>\n",
       "</table>\n"
      ],
      "text/plain": [
       "+--------+--------------------+---------------------+---------------+-------------+----------+------------------+------------+------------+------------+-----------+-----+-------+----------+------------+---------------------+------------+--------------------+-----------+\n",
       "|VendorID|tpep_pickup_datetime|tpep_dropoff_datetime|passenger_count|trip_distance|RatecodeID|store_and_fwd_flag|PULocationID|DOLocationID|payment_type|fare_amount|extra|mta_tax|tip_amount|tolls_amount|improvement_surcharge|total_amount|congestion_surcharge|airport_fee|\n",
       "+--------+--------------------+---------------------+---------------+-------------+----------+------------------+------------+------------+------------+-----------+-----+-------+----------+------------+---------------------+------------+--------------------+-----------+\n",
       "|       1| 2020-02-01 00:17:35|  2020-02-01 00:30:32|            1.0|          2.6|       1.0|                 N|         145|           7|           1|       11.0|  0.5|    0.5|      2.45|         0.0|                  0.3|       14.75|                 0.0|       null|\n",
       "|       1| 2020-02-01 00:32:47|  2020-02-01 01:05:36|            1.0|          4.8|       1.0|                 N|          45|          61|           1|       21.5|  3.0|    0.5|       6.3|         0.0|                  0.3|        31.6|                 2.5|       null|\n",
       "|       1| 2020-02-01 00:31:44|  2020-02-01 00:43:28|            1.0|          3.2|       1.0|                 N|         186|         140|           1|       11.0|  3.0|    0.5|       1.0|         0.0|                  0.3|        15.8|                 2.5|       null|\n",
       "|       2| 2020-02-01 00:07:35|  2020-02-01 00:31:39|            1.0|         4.38|       1.0|                 N|         144|         140|           1|       18.0|  0.5|    0.5|       3.0|         0.0|                  0.3|        24.8|                 2.5|       null|\n",
       "|       2| 2020-02-01 00:51:43|  2020-02-01 01:01:29|            1.0|         2.28|       1.0|                 N|         238|         152|           2|        9.5|  0.5|    0.5|       0.0|         0.0|                  0.3|        10.8|                 0.0|       null|\n",
       "+--------+--------------------+---------------------+---------------+-------------+----------+------------------+------------+------------+------------+-----------+-----+-------+----------+------------+---------------------+------------+--------------------+-----------+"
      ]
     },
     "execution_count": 8,
     "metadata": {},
     "output_type": "execute_result"
    }
   ],
   "source": [
    "taxidf = spark.read.parquet('../data/raw/tlc_2020/')\n",
    "taxidf.limit(5)"
   ]
  },
  {
   "cell_type": "code",
   "execution_count": 9,
   "metadata": {},
   "outputs": [
    {
     "data": {
      "text/html": [
       "<table border='1'>\n",
       "<tr><th>month-day-hr</th><th>PULocationID</th><th>journey_time</th><th>trip_distance</th></tr>\n",
       "<tr><td>February-01-00</td><td>145</td><td>12.95</td><td>2.6</td></tr>\n",
       "<tr><td>February-01-00</td><td>45</td><td>32.82</td><td>4.8</td></tr>\n",
       "<tr><td>February-01-00</td><td>186</td><td>11.73</td><td>3.2</td></tr>\n",
       "<tr><td>February-01-00</td><td>144</td><td>24.07</td><td>4.38</td></tr>\n",
       "<tr><td>February-01-00</td><td>238</td><td>9.77</td><td>2.28</td></tr>\n",
       "<tr><td>February-01-00</td><td>249</td><td>4.98</td><td>1.0</td></tr>\n",
       "<tr><td>February-01-00</td><td>79</td><td>24.85</td><td>3.4</td></tr>\n",
       "<tr><td>February-01-00</td><td>224</td><td>13.23</td><td>2.1</td></tr>\n",
       "<tr><td>February-01-00</td><td>116</td><td>4.0</td><td>0.8</td></tr>\n",
       "<tr><td>February-01-00</td><td>161</td><td>44.22</td><td>7.22</td></tr>\n",
       "</table>\n"
      ],
      "text/plain": [
       "+--------------+------------+------------+-------------+\n",
       "|  month-day-hr|PULocationID|journey_time|trip_distance|\n",
       "+--------------+------------+------------+-------------+\n",
       "|February-01-00|         145|       12.95|          2.6|\n",
       "|February-01-00|          45|       32.82|          4.8|\n",
       "|February-01-00|         186|       11.73|          3.2|\n",
       "|February-01-00|         144|       24.07|         4.38|\n",
       "|February-01-00|         238|        9.77|         2.28|\n",
       "|February-01-00|         249|        4.98|          1.0|\n",
       "|February-01-00|          79|       24.85|          3.4|\n",
       "|February-01-00|         224|       13.23|          2.1|\n",
       "|February-01-00|         116|         4.0|          0.8|\n",
       "|February-01-00|         161|       44.22|         7.22|\n",
       "+--------------+------------+------------+-------------+"
      ]
     },
     "execution_count": 9,
     "metadata": {},
     "output_type": "execute_result"
    }
   ],
   "source": [
    "# same renaming and selecting as train set\n",
    "\n",
    "from pyspark.sql.functions import *\n",
    "\n",
    "taxidf = taxidf.withColumn(\"month-day-hr\", date_format(col(\"tpep_pickup_datetime\"), \"MMMM-dd-HH\"))\n",
    "\n",
    "taxidf = taxidf.withColumn('tpep_pickup_datetime',to_timestamp(col('tpep_pickup_datetime')))\\\n",
    "  .withColumn('tpep_dropoff_datetime', to_timestamp(col('tpep_dropoff_datetime')))\\\n",
    "  .withColumn('journey_time',(col(\"tpep_dropoff_datetime\").cast(\"long\") - col('tpep_pickup_datetime').cast(\"double\"))/60)\n",
    "taxidf = taxidf.withColumn(\"journey_time\", round(col(\"journey_time\"), 2))\n",
    "\n",
    "taxidf = taxidf.select(\"month-day-hr\",\"PULocationID\",\"journey_time\",\"trip_distance\")\n",
    "\n",
    "taxidf.limit(10)"
   ]
  },
  {
   "cell_type": "code",
   "execution_count": 10,
   "metadata": {},
   "outputs": [
    {
     "name": "stdout",
     "output_type": "stream",
     "text": [
      "12704375\n"
     ]
    },
    {
     "name": "stderr",
     "output_type": "stream",
     "text": [
      "                                                                                \r"
     ]
    },
    {
     "name": "stdout",
     "output_type": "stream",
     "text": [
      "6781135\n"
     ]
    },
    {
     "name": "stderr",
     "output_type": "stream",
     "text": [
      "[Stage 30:=================================================>      (14 + 2) / 16]\r"
     ]
    },
    {
     "name": "stdout",
     "output_type": "stream",
     "text": [
      "6748318\n"
     ]
    },
    {
     "name": "stderr",
     "output_type": "stream",
     "text": [
      "                                                                                \r"
     ]
    }
   ],
   "source": [
    "# filtering\n",
    "\n",
    "print(taxidf.count())\n",
    "taxidf = taxidf.filter(col('journey_time') > 10)\n",
    "print(taxidf.count())\n",
    "taxidf = taxidf.filter(col('trip_distance') > 0)\n",
    "print(taxidf.count())\n",
    "taxidf = taxidf.dropna(\"any\")"
   ]
  },
  {
   "cell_type": "code",
   "execution_count": 11,
   "metadata": {},
   "outputs": [],
   "source": [
    "countdf = taxidf.groupBy(\"month-day-hr\",\"PULocationID\").count()"
   ]
  },
  {
   "cell_type": "code",
   "execution_count": 11,
   "metadata": {},
   "outputs": [
    {
     "name": "stderr",
     "output_type": "stream",
     "text": [
      "                                                                                \r"
     ]
    },
    {
     "data": {
      "text/plain": [
       "167713"
      ]
     },
     "execution_count": 11,
     "metadata": {},
     "output_type": "execute_result"
    }
   ],
   "source": [
    "countdf.count()"
   ]
  },
  {
   "cell_type": "code",
   "execution_count": 12,
   "metadata": {},
   "outputs": [
    {
     "name": "stderr",
     "output_type": "stream",
     "text": [
      "                                                                                \r"
     ]
    },
    {
     "data": {
      "text/plain": [
       "164257"
      ]
     },
     "execution_count": 12,
     "metadata": {},
     "output_type": "execute_result"
    }
   ],
   "source": [
    "# inner join\n",
    "\n",
    "mergedf = countdf.join(tempdf, [\"month-day-hr\"])\n",
    "mergedf.count()"
   ]
  },
  {
   "cell_type": "code",
   "execution_count": 13,
   "metadata": {},
   "outputs": [
    {
     "name": "stderr",
     "output_type": "stream",
     "text": [
      "                                                                                \r"
     ]
    },
    {
     "data": {
      "text/html": [
       "<table border='1'>\n",
       "<tr><th>PULocationID</th><th>count</th><th>temperature(f)</th><th>dew_point_temp(f)</th><th>relative_humidity</th><th>wind_speed</th><th>month</th><th>day</th><th>pickup_hour</th></tr>\n",
       "<tr><td>125</td><td>8</td><td>41.0</td><td>37.0</td><td>85.54</td><td>4.0</td><td>2</td><td>1</td><td>4</td></tr>\n",
       "<tr><td>225</td><td>1</td><td>41.0</td><td>37.0</td><td>85.54</td><td>4.0</td><td>2</td><td>1</td><td>4</td></tr>\n",
       "<tr><td>262</td><td>81</td><td>39.0</td><td>36.0</td><td>88.87</td><td>0.0</td><td>2</td><td>1</td><td>11</td></tr>\n",
       "<tr><td>82</td><td>5</td><td>39.0</td><td>36.0</td><td>88.87</td><td>0.0</td><td>2</td><td>1</td><td>11</td></tr>\n",
       "<tr><td>181</td><td>4</td><td>39.9</td><td>36.0</td><td>85.81</td><td>3.0</td><td>2</td><td>1</td><td>13</td></tr>\n",
       "<tr><td>173</td><td>1</td><td>39.9</td><td>36.0</td><td>85.81</td><td>3.0</td><td>2</td><td>1</td><td>13</td></tr>\n",
       "<tr><td>262</td><td>47</td><td>39.9</td><td>36.0</td><td>85.81</td><td>4.0</td><td>2</td><td>1</td><td>14</td></tr>\n",
       "<tr><td>87</td><td>30</td><td>41.0</td><td>37.0</td><td>85.54</td><td>5.0</td><td>2</td><td>1</td><td>21</td></tr>\n",
       "<tr><td>13</td><td>32</td><td>37.9</td><td>33.1</td><td>82.66</td><td>4.0</td><td>2</td><td>2</td><td>10</td></tr>\n",
       "<tr><td>193</td><td>2</td><td>43.0</td><td>30.0</td><td>59.83</td><td>4.0</td><td>2</td><td>2</td><td>17</td></tr>\n",
       "</table>\n"
      ],
      "text/plain": [
       "+------------+-----+--------------+-----------------+-----------------+----------+-----+---+-----------+\n",
       "|PULocationID|count|temperature(f)|dew_point_temp(f)|relative_humidity|wind_speed|month|day|pickup_hour|\n",
       "+------------+-----+--------------+-----------------+-----------------+----------+-----+---+-----------+\n",
       "|         125|    8|          41.0|             37.0|            85.54|       4.0|    2|  1|          4|\n",
       "|         225|    1|          41.0|             37.0|            85.54|       4.0|    2|  1|          4|\n",
       "|         262|   81|          39.0|             36.0|            88.87|       0.0|    2|  1|         11|\n",
       "|          82|    5|          39.0|             36.0|            88.87|       0.0|    2|  1|         11|\n",
       "|         181|    4|          39.9|             36.0|            85.81|       3.0|    2|  1|         13|\n",
       "|         173|    1|          39.9|             36.0|            85.81|       3.0|    2|  1|         13|\n",
       "|         262|   47|          39.9|             36.0|            85.81|       4.0|    2|  1|         14|\n",
       "|          87|   30|          41.0|             37.0|            85.54|       5.0|    2|  1|         21|\n",
       "|          13|   32|          37.9|             33.1|            82.66|       4.0|    2|  2|         10|\n",
       "|         193|    2|          43.0|             30.0|            59.83|       4.0|    2|  2|         17|\n",
       "+------------+-----+--------------+-----------------+-----------------+----------+-----+---+-----------+"
      ]
     },
     "execution_count": 13,
     "metadata": {},
     "output_type": "execute_result"
    }
   ],
   "source": [
    "mergedf = mergedf.drop(\"month-day-hr\")\n",
    "mergedf.limit(10)"
   ]
  },
  {
   "cell_type": "code",
   "execution_count": 42,
   "metadata": {},
   "outputs": [
    {
     "data": {
      "text/plain": [
       "StructType([StructField('PULocationID', LongType(), True), StructField('count', LongType(), False), StructField('temperature(f)', DoubleType(), True), StructField('dew_point_temp(f)', DoubleType(), True), StructField('relative_humidity', DoubleType(), True), StructField('wind_speed', DoubleType(), True), StructField('month', LongType(), True), StructField('day', LongType(), True), StructField('pickup_hour', LongType(), True)])"
      ]
     },
     "execution_count": 42,
     "metadata": {},
     "output_type": "execute_result"
    }
   ],
   "source": [
    "mergedf.schema"
   ]
  },
  {
   "cell_type": "code",
   "execution_count": 14,
   "metadata": {},
   "outputs": [
    {
     "name": "stderr",
     "output_type": "stream",
     "text": [
      "                                                                                \r"
     ]
    }
   ],
   "source": [
    "mergedf.write.parquet('../data/curated/testdf.paraquet')"
   ]
  }
 ],
 "metadata": {
  "kernelspec": {
   "display_name": "Python 3.10.4 64-bit",
   "language": "python",
   "name": "python3"
  },
  "language_info": {
   "codemirror_mode": {
    "name": "ipython",
    "version": 3
   },
   "file_extension": ".py",
   "mimetype": "text/x-python",
   "name": "python",
   "nbconvert_exporter": "python",
   "pygments_lexer": "ipython3",
   "version": "3.10.4"
  },
  "latex_envs": {
   "LaTeX_envs_menu_present": true,
   "autoclose": false,
   "autocomplete": true,
   "bibliofile": "biblio.bib",
   "cite_by": "apalike",
   "current_citInitial": 1,
   "eqLabelWithNumbers": true,
   "eqNumInitial": 1,
   "hotkeys": {
    "equation": "Ctrl-E",
    "itemize": "Ctrl-I"
   },
   "labels_anchors": false,
   "latex_user_defs": false,
   "report_style_numbering": false,
   "user_envs_cfg": false
  },
  "toc": {
   "base_numbering": 1,
   "nav_menu": {},
   "number_sections": true,
   "sideBar": true,
   "skip_h1_title": false,
   "title_cell": "Table of Contents",
   "title_sidebar": "Contents",
   "toc_cell": false,
   "toc_position": {},
   "toc_section_display": true,
   "toc_window_display": false
  },
  "varInspector": {
   "cols": {
    "lenName": 16,
    "lenType": 16,
    "lenVar": 40
   },
   "kernels_config": {
    "python": {
     "delete_cmd_postfix": "",
     "delete_cmd_prefix": "del ",
     "library": "var_list.py",
     "varRefreshCmd": "print(var_dic_list())"
    },
    "r": {
     "delete_cmd_postfix": ") ",
     "delete_cmd_prefix": "rm(",
     "library": "var_list.r",
     "varRefreshCmd": "cat(var_dic_list()) "
    }
   },
   "types_to_exclude": [
    "module",
    "function",
    "builtin_function_or_method",
    "instance",
    "_Feature"
   ],
   "window_display": false
  },
  "vscode": {
   "interpreter": {
    "hash": "916dbcbb3f70747c44a77c7bcd40155683ae19c65e1c03b4aa3499c5328201f1"
   }
  }
 },
 "nbformat": 4,
 "nbformat_minor": 4
}
