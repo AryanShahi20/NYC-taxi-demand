{
 "cells": [
  {
   "cell_type": "markdown",
   "metadata": {},
   "source": [
    "# Pre-Processing"
   ]
  },
  {
   "cell_type": "markdown",
   "metadata": {},
   "source": [
    "Code throughout assignment was adapted from tutes\n"
   ]
  },
  {
   "cell_type": "code",
   "execution_count": 3,
   "metadata": {
    "ExecuteTime": {
     "end_time": "2022-07-31T02:21:57.281515Z",
     "start_time": "2022-07-31T02:21:56.386618Z"
    }
   },
   "outputs": [
    {
     "name": "stdout",
     "output_type": "stream",
     "text": [
      "Begin month 01\n",
      "Completed month 01\n",
      "Begin month 02\n",
      "Completed month 02\n",
      "Begin month 03\n",
      "Completed month 03\n",
      "Begin month 04\n",
      "Completed month 04\n",
      "Begin month 05\n",
      "Completed month 05\n",
      "Begin month 06\n",
      "Completed month 06\n",
      "Begin month 07\n",
      "Completed month 07\n",
      "Begin month 08\n",
      "Completed month 08\n",
      "Begin month 09\n",
      "Completed month 09\n",
      "Begin month 10\n",
      "Completed month 10\n",
      "Begin month 11\n",
      "Completed month 11\n",
      "Begin month 12\n",
      "Completed month 12\n"
     ]
    }
   ],
   "source": [
    "# Downloads the training data from TLC\n",
    "\n",
    "from urllib.request import urlretrieve\n",
    "import os\n",
    "\n",
    "YEAR = '2019'\n",
    "MONTHS = range(1, 13)\n",
    "URL_TEMPLATE = \"https://d37ci6vzurychx.cloudfront.net/trip-data/yellow_tripdata_\"\n",
    "\n",
    "tlc_output_dir = '../data/raw/tlc_2019'\n",
    "if not os.path.exists(tlc_output_dir):\n",
    "    os.makedirs(tlc_output_dir)\n",
    "    \n",
    "for month in MONTHS:\n",
    "    \n",
    "    month = str(month).zfill(2) \n",
    "    print(f\"Begin month {month}\")\n",
    "    \n",
    "    # generate url\n",
    "    url = f'{URL_TEMPLATE}{YEAR}-{month}.parquet'\n",
    "    # generate output location and filename\n",
    "    output_dir = f\"{tlc_output_dir}/{YEAR}-{month}.parquet\"\n",
    "    # download\n",
    "    urlretrieve(url, output_dir) \n",
    "    \n",
    "    print(f\"Completed month {month}\")"
   ]
  },
  {
   "cell_type": "code",
   "execution_count": 4,
   "metadata": {
    "ExecuteTime": {
     "end_time": "2022-07-31T02:22:01.919813Z",
     "start_time": "2022-07-31T02:21:57.283647Z"
    }
   },
   "outputs": [
    {
     "name": "stdout",
     "output_type": "stream",
     "text": [
      "22/08/29 06:46:17 WARN Utils: Your hostname, AryansLaptop resolves to a loopback address: 127.0.1.1; using 172.18.205.204 instead (on interface eth0)\n",
      "22/08/29 06:46:17 WARN Utils: Set SPARK_LOCAL_IP if you need to bind to another address\n"
     ]
    },
    {
     "name": "stderr",
     "output_type": "stream",
     "text": [
      "Setting default log level to \"WARN\".\n",
      "To adjust logging level use sc.setLogLevel(newLevel). For SparkR, use setLogLevel(newLevel).\n"
     ]
    },
    {
     "name": "stdout",
     "output_type": "stream",
     "text": [
      "22/08/29 06:46:18 WARN NativeCodeLoader: Unable to load native-hadoop library for your platform... using builtin-java classes where applicable\n"
     ]
    }
   ],
   "source": [
    "from pyspark.sql import SparkSession\n",
    "\n",
    "# Create a spark session\n",
    "spark = (\n",
    "    SparkSession.builder.appName(\"preprocessing\")\n",
    "    .config(\"spark.sql.repl.eagerEval.enabled\", True) \n",
    "    .config(\"spark.sql.parquet.cacheMetadata\", \"true\")\n",
    "    .config(\"spark.sql.session.timeZone\", \"Etc/UTC\")\n",
    "    .config(\"spark.driver.memory\", \"2g\")\n",
    "    .config(\"spark.executor.memory\", \"6g\")\n",
    "    .getOrCreate()\n",
    ")"
   ]
  },
  {
   "cell_type": "code",
   "execution_count": 5,
   "metadata": {},
   "outputs": [
    {
     "name": "stdout",
     "output_type": "stream",
     "text": [
      "8368 30\n",
      "22/08/29 06:49:52 WARN package: Truncated the string representation of a plan since it was too large. This behavior can be adjusted by setting 'spark.sql.debug.maxToStringFields'.\n"
     ]
    },
    {
     "data": {
      "text/html": [
       "<table border='1'>\n",
       "<tr><th>station</th><th>valid</th><th>tmpf</th><th>dwpf</th><th>relh</th><th>drct</th><th>sknt</th><th>p01i</th><th>alti</th><th>mslp</th><th>vsby</th><th>gust</th><th>skyc1</th><th>skyc2</th><th>skyc3</th><th>skyc4</th><th>skyl1</th><th>skyl2</th><th>skyl3</th><th>skyl4</th><th>wxcodes</th><th>ice_accretion_1hr</th><th>ice_accretion_3hr</th><th>ice_accretion_6hr</th><th>peak_wind_gust</th><th>peak_wind_drct</th><th>peak_wind_time</th><th>feel</th><th>metar</th><th>snowdepth</th></tr>\n",
       "<tr><td>JRB</td><td>2019-01-01 00:56</td><td>44.10</td><td>43.00</td><td>95.88</td><td>90.00</td><td>7.00</td><td>0.18</td><td>30.08</td><td>1018.50</td><td>6.00</td><td>null</td><td>OVC</td><td>null</td><td>null</td><td>null</td><td>700.00</td><td>null</td><td>null</td><td>null</td><td>-RA BR</td><td>null</td><td>null</td><td>null</td><td>null</td><td>null</td><td>null</td><td>39.53</td><td>KJRB 010056Z AUTO...</td><td>null</td></tr>\n",
       "<tr><td>JRB</td><td>2019-01-01 01:56</td><td>45.00</td><td>44.10</td><td>96.63</td><td>50.00</td><td>8.00</td><td>0.15</td><td>30.02</td><td>1016.70</td><td>3.00</td><td>null</td><td>OVC</td><td>null</td><td>null</td><td>null</td><td>700.00</td><td>null</td><td>null</td><td>null</td><td>RA BR</td><td>null</td><td>null</td><td>null</td><td>null</td><td>null</td><td>null</td><td>40.13</td><td>KJRB 010156Z AUTO...</td><td>null</td></tr>\n",
       "<tr><td>JRB</td><td>2019-01-01 02:56</td><td>45.00</td><td>44.10</td><td>96.63</td><td>40.00</td><td>10.00</td><td>0.17</td><td>29.94</td><td>1013.90</td><td>8.00</td><td>null</td><td>OVC</td><td>null</td><td>null</td><td>null</td><td>700.00</td><td>null</td><td>null</td><td>null</td><td>-RA</td><td>null</td><td>null</td><td>null</td><td>null</td><td>null</td><td>null</td><td>39.27</td><td>KJRB 010256Z AUTO...</td><td>null</td></tr>\n",
       "<tr><td>JRB</td><td>2019-01-01 03:56</td><td>46.00</td><td>45.00</td><td>96.28</td><td>40.00</td><td>7.00</td><td>0.11</td><td>29.88</td><td>1011.90</td><td>9.00</td><td>15.00</td><td>OVC</td><td>null</td><td>null</td><td>null</td><td>700.00</td><td>null</td><td>null</td><td>null</td><td>-RA</td><td>null</td><td>null</td><td>null</td><td>null</td><td>null</td><td>null</td><td>41.84</td><td>KJRB 010356Z AUTO...</td><td>null</td></tr>\n",
       "<tr><td>JRB</td><td>2019-01-01 04:56</td><td>48.90</td><td>48.00</td><td>96.69</td><td>null</td><td>3.00</td><td>0.15</td><td>29.80</td><td>1009.20</td><td>7.00</td><td>null</td><td>OVC</td><td>null</td><td>null</td><td>null</td><td>500.00</td><td>null</td><td>null</td><td>null</td><td>-RA</td><td>null</td><td>null</td><td>null</td><td>null</td><td>null</td><td>null</td><td>48.01</td><td>KJRB 010456Z AUTO...</td><td>null</td></tr>\n",
       "</table>\n"
      ],
      "text/plain": [
       "+-------+----------------+-----+-----+-----+-----+-----+----+-----+-------+----+-----+-----+-----+-----+-----+------+-----+-----+-----+-------+-----------------+-----------------+-----------------+--------------+--------------+--------------+-----+--------------------+---------+\n",
       "|station|           valid| tmpf| dwpf| relh| drct| sknt|p01i| alti|   mslp|vsby| gust|skyc1|skyc2|skyc3|skyc4| skyl1|skyl2|skyl3|skyl4|wxcodes|ice_accretion_1hr|ice_accretion_3hr|ice_accretion_6hr|peak_wind_gust|peak_wind_drct|peak_wind_time| feel|               metar|snowdepth|\n",
       "+-------+----------------+-----+-----+-----+-----+-----+----+-----+-------+----+-----+-----+-----+-----+-----+------+-----+-----+-----+-------+-----------------+-----------------+-----------------+--------------+--------------+--------------+-----+--------------------+---------+\n",
       "|    JRB|2019-01-01 00:56|44.10|43.00|95.88|90.00| 7.00|0.18|30.08|1018.50|6.00| null|  OVC| null| null| null|700.00| null| null| null| -RA BR|             null|             null|             null|          null|          null|          null|39.53|KJRB 010056Z AUTO...|     null|\n",
       "|    JRB|2019-01-01 01:56|45.00|44.10|96.63|50.00| 8.00|0.15|30.02|1016.70|3.00| null|  OVC| null| null| null|700.00| null| null| null|  RA BR|             null|             null|             null|          null|          null|          null|40.13|KJRB 010156Z AUTO...|     null|\n",
       "|    JRB|2019-01-01 02:56|45.00|44.10|96.63|40.00|10.00|0.17|29.94|1013.90|8.00| null|  OVC| null| null| null|700.00| null| null| null|    -RA|             null|             null|             null|          null|          null|          null|39.27|KJRB 010256Z AUTO...|     null|\n",
       "|    JRB|2019-01-01 03:56|46.00|45.00|96.28|40.00| 7.00|0.11|29.88|1011.90|9.00|15.00|  OVC| null| null| null|700.00| null| null| null|    -RA|             null|             null|             null|          null|          null|          null|41.84|KJRB 010356Z AUTO...|     null|\n",
       "|    JRB|2019-01-01 04:56|48.90|48.00|96.69| null| 3.00|0.15|29.80|1009.20|7.00| null|  OVC| null| null| null|500.00| null| null| null|    -RA|             null|             null|             null|          null|          null|          null|48.01|KJRB 010456Z AUTO...|     null|\n",
       "+-------+----------------+-----+-----+-----+-----+-----+----+-----+-------+----+-----+-----+-----+-----+-----+------+-----+-----+-----+-------+-----------------+-----------------+-----------------+--------------+--------------+--------------+-----+--------------------+---------+"
      ]
     },
     "execution_count": 5,
     "metadata": {},
     "output_type": "execute_result"
    }
   ],
   "source": [
    "# Reads in the weather train dataset\n",
    "\n",
    "tempdf = spark.read.option(\"header\", \"true\").csv(\"../data/raw/JRB-train.tsv\",sep='\\t')\n",
    "print(tempdf.count(), len(tempdf.columns))\n",
    "tempdf.limit(5)"
   ]
  },
  {
   "cell_type": "code",
   "execution_count": 6,
   "metadata": {},
   "outputs": [
    {
     "name": "stdout",
     "output_type": "stream",
     "text": [
      "8368\n",
      "8368\n"
     ]
    },
    {
     "data": {
      "text/html": [
       "<table border='1'>\n",
       "<tr><th>valid</th><th>tmpf</th><th>dwpf</th><th>relh</th><th>sknt</th></tr>\n",
       "<tr><td>2019-01-01 00:56</td><td>44.10</td><td>43.00</td><td>95.88</td><td>7.00</td></tr>\n",
       "<tr><td>2019-01-01 01:56</td><td>45.00</td><td>44.10</td><td>96.63</td><td>8.00</td></tr>\n",
       "<tr><td>2019-01-01 02:56</td><td>45.00</td><td>44.10</td><td>96.63</td><td>10.00</td></tr>\n",
       "<tr><td>2019-01-01 03:56</td><td>46.00</td><td>45.00</td><td>96.28</td><td>7.00</td></tr>\n",
       "<tr><td>2019-01-01 04:56</td><td>48.90</td><td>48.00</td><td>96.69</td><td>3.00</td></tr>\n",
       "</table>\n"
      ],
      "text/plain": [
       "+----------------+-----+-----+-----+-----+\n",
       "|           valid| tmpf| dwpf| relh| sknt|\n",
       "+----------------+-----+-----+-----+-----+\n",
       "|2019-01-01 00:56|44.10|43.00|95.88| 7.00|\n",
       "|2019-01-01 01:56|45.00|44.10|96.63| 8.00|\n",
       "|2019-01-01 02:56|45.00|44.10|96.63|10.00|\n",
       "|2019-01-01 03:56|46.00|45.00|96.28| 7.00|\n",
       "|2019-01-01 04:56|48.90|48.00|96.69| 3.00|\n",
       "+----------------+-----+-----+-----+-----+"
      ]
     },
     "execution_count": 6,
     "metadata": {},
     "output_type": "execute_result"
    }
   ],
   "source": [
    "# Removes pointless features and checks if any null values\n",
    "\n",
    "tempdf = tempdf.select(\"valid\",\"tmpf\",\"dwpf\",\"relh\",\"sknt\")\n",
    "print(tempdf.count())\n",
    "tempdf.dropna(\"any\")\n",
    "print(tempdf.count())\n",
    "tempdf.limit(5)"
   ]
  },
  {
   "cell_type": "code",
   "execution_count": 7,
   "metadata": {},
   "outputs": [
    {
     "data": {
      "text/html": [
       "<table border='1'>\n",
       "<tr><th>temperature(f)</th><th>dew_point_temp(f)</th><th>relative_humidity</th><th>wind_speed</th><th>month-day-hr</th><th>month</th><th>day</th><th>pickup_hour</th></tr>\n",
       "<tr><td>44.1</td><td>43.0</td><td>95.88</td><td>7.0</td><td>January-01-00</td><td>1</td><td>1</td><td>0</td></tr>\n",
       "<tr><td>45.0</td><td>44.1</td><td>96.63</td><td>8.0</td><td>January-01-01</td><td>1</td><td>1</td><td>1</td></tr>\n",
       "<tr><td>45.0</td><td>44.1</td><td>96.63</td><td>10.0</td><td>January-01-02</td><td>1</td><td>1</td><td>2</td></tr>\n",
       "<tr><td>46.0</td><td>45.0</td><td>96.28</td><td>7.0</td><td>January-01-03</td><td>1</td><td>1</td><td>3</td></tr>\n",
       "<tr><td>48.9</td><td>48.0</td><td>96.69</td><td>3.0</td><td>January-01-04</td><td>1</td><td>1</td><td>4</td></tr>\n",
       "</table>\n"
      ],
      "text/plain": [
       "+--------------+-----------------+-----------------+----------+-------------+-----+---+-----------+\n",
       "|temperature(f)|dew_point_temp(f)|relative_humidity|wind_speed| month-day-hr|month|day|pickup_hour|\n",
       "+--------------+-----------------+-----------------+----------+-------------+-----+---+-----------+\n",
       "|          44.1|             43.0|            95.88|       7.0|January-01-00|    1|  1|          0|\n",
       "|          45.0|             44.1|            96.63|       8.0|January-01-01|    1|  1|          1|\n",
       "|          45.0|             44.1|            96.63|      10.0|January-01-02|    1|  1|          2|\n",
       "|          46.0|             45.0|            96.28|       7.0|January-01-03|    1|  1|          3|\n",
       "|          48.9|             48.0|            96.69|       3.0|January-01-04|    1|  1|          4|\n",
       "+--------------+-----------------+-----------------+----------+-------------+-----+---+-----------+"
      ]
     },
     "execution_count": 7,
     "metadata": {},
     "output_type": "execute_result"
    }
   ],
   "source": [
    "# Transforms and renames dataset\n",
    "\n",
    "from pyspark.sql.functions import *\n",
    "\n",
    "# adds all the time related columns to dataset\n",
    "tempdf = tempdf.withColumn(\"month-day-hr\", date_format(col(\"valid\"), \"MMMM-dd-HH\"))\n",
    "tempdf = tempdf.withColumn(\"month\", date_format(col(\"valid\"), \"MM\").cast(\"long\"))\n",
    "tempdf = tempdf.withColumn(\"day\", date_format(col(\"valid\"), \"dd\").cast(\"long\"))\n",
    "tempdf = tempdf.withColumn(\"pickup_hour\", date_format(col(\"valid\"), \"HH\").cast(\"long\"))\n",
    "tempdf = tempdf.drop(\"valid\")\n",
    "\n",
    "# renames columns to less ambiguous names\n",
    "tempdf = tempdf.withColumnRenamed(\"tmpf\",\"temperature(f)\")\n",
    "tempdf = tempdf.withColumnRenamed(\"dwpf\",\"dew_point_temp(f)\")\n",
    "tempdf = tempdf.withColumnRenamed(\"relh\",\"relative_humidity\")\n",
    "tempdf = tempdf.withColumnRenamed(\"sknt\",\"wind_speed\")\n",
    "\n",
    "# makes fields double so they can be used in model making\n",
    "for field in ('temperature(f)',\"dew_point_temp(f)\",\"relative_humidity\",\"wind_speed\"):\n",
    "    tempdf = tempdf.withColumn(\n",
    "        field,\n",
    "        col(field).cast('double')\n",
    "    )\n",
    "\n",
    "tempdf.limit(5)"
   ]
  },
  {
   "cell_type": "code",
   "execution_count": 25,
   "metadata": {},
   "outputs": [
    {
     "data": {
      "text/plain": [
       "StructType([StructField('temperature(f)', DoubleType(), True), StructField('dew_point_temp(f)', DoubleType(), True), StructField('relative_humidity', DoubleType(), True), StructField('wind_speed', DoubleType(), True), StructField('month-day-hr', StringType(), True), StructField('month', LongType(), True), StructField('day', LongType(), True), StructField('pickup_hour', LongType(), True)])"
      ]
     },
     "execution_count": 25,
     "metadata": {},
     "output_type": "execute_result"
    }
   ],
   "source": [
    "tempdf.schema"
   ]
  },
  {
   "cell_type": "code",
   "execution_count": 8,
   "metadata": {
    "ExecuteTime": {
     "end_time": "2022-07-31T02:22:06.991208Z",
     "start_time": "2022-07-31T02:22:01.921457Z"
    }
   },
   "outputs": [
    {
     "name": "stdout",
     "output_type": "stream",
     "text": [
      "84598444 19\n"
     ]
    },
    {
     "name": "stderr",
     "output_type": "stream",
     "text": [
      "                                                                                \r"
     ]
    },
    {
     "data": {
      "text/html": [
       "<table border='1'>\n",
       "<tr><th>VendorID</th><th>tpep_pickup_datetime</th><th>tpep_dropoff_datetime</th><th>passenger_count</th><th>trip_distance</th><th>RatecodeID</th><th>store_and_fwd_flag</th><th>PULocationID</th><th>DOLocationID</th><th>payment_type</th><th>fare_amount</th><th>extra</th><th>mta_tax</th><th>tip_amount</th><th>tolls_amount</th><th>improvement_surcharge</th><th>total_amount</th><th>congestion_surcharge</th><th>airport_fee</th></tr>\n",
       "<tr><td>1</td><td>2019-03-01 00:24:41</td><td>2019-03-01 00:25:31</td><td>1.0</td><td>0.0</td><td>1.0</td><td>N</td><td>145</td><td>145</td><td>2</td><td>2.5</td><td>0.5</td><td>0.5</td><td>0.0</td><td>0.0</td><td>0.3</td><td>3.8</td><td>0.0</td><td>null</td></tr>\n",
       "<tr><td>1</td><td>2019-03-01 00:25:27</td><td>2019-03-01 00:36:37</td><td>2.0</td><td>3.7</td><td>1.0</td><td>N</td><td>95</td><td>130</td><td>1</td><td>13.0</td><td>0.5</td><td>0.5</td><td>0.7</td><td>0.0</td><td>0.3</td><td>15.0</td><td>0.0</td><td>null</td></tr>\n",
       "<tr><td>1</td><td>2019-03-01 00:05:21</td><td>2019-03-01 00:38:23</td><td>1.0</td><td>14.1</td><td>1.0</td><td>N</td><td>249</td><td>28</td><td>1</td><td>41.0</td><td>3.0</td><td>0.5</td><td>10.1</td><td>5.76</td><td>0.3</td><td>60.66</td><td>2.5</td><td>null</td></tr>\n",
       "<tr><td>1</td><td>2019-03-01 00:48:55</td><td>2019-03-01 01:06:03</td><td>1.0</td><td>9.6</td><td>1.0</td><td>N</td><td>138</td><td>98</td><td>2</td><td>27.0</td><td>0.5</td><td>0.5</td><td>0.0</td><td>0.0</td><td>0.3</td><td>28.3</td><td>0.0</td><td>null</td></tr>\n",
       "<tr><td>1</td><td>2019-03-01 00:11:42</td><td>2019-03-01 00:16:40</td><td>1.0</td><td>0.8</td><td>1.0</td><td>N</td><td>48</td><td>48</td><td>1</td><td>5.5</td><td>3.0</td><td>0.5</td><td>3.0</td><td>0.0</td><td>0.3</td><td>12.3</td><td>2.5</td><td>null</td></tr>\n",
       "</table>\n"
      ],
      "text/plain": [
       "+--------+--------------------+---------------------+---------------+-------------+----------+------------------+------------+------------+------------+-----------+-----+-------+----------+------------+---------------------+------------+--------------------+-----------+\n",
       "|VendorID|tpep_pickup_datetime|tpep_dropoff_datetime|passenger_count|trip_distance|RatecodeID|store_and_fwd_flag|PULocationID|DOLocationID|payment_type|fare_amount|extra|mta_tax|tip_amount|tolls_amount|improvement_surcharge|total_amount|congestion_surcharge|airport_fee|\n",
       "+--------+--------------------+---------------------+---------------+-------------+----------+------------------+------------+------------+------------+-----------+-----+-------+----------+------------+---------------------+------------+--------------------+-----------+\n",
       "|       1| 2019-03-01 00:24:41|  2019-03-01 00:25:31|            1.0|          0.0|       1.0|                 N|         145|         145|           2|        2.5|  0.5|    0.5|       0.0|         0.0|                  0.3|         3.8|                 0.0|       null|\n",
       "|       1| 2019-03-01 00:25:27|  2019-03-01 00:36:37|            2.0|          3.7|       1.0|                 N|          95|         130|           1|       13.0|  0.5|    0.5|       0.7|         0.0|                  0.3|        15.0|                 0.0|       null|\n",
       "|       1| 2019-03-01 00:05:21|  2019-03-01 00:38:23|            1.0|         14.1|       1.0|                 N|         249|          28|           1|       41.0|  3.0|    0.5|      10.1|        5.76|                  0.3|       60.66|                 2.5|       null|\n",
       "|       1| 2019-03-01 00:48:55|  2019-03-01 01:06:03|            1.0|          9.6|       1.0|                 N|         138|          98|           2|       27.0|  0.5|    0.5|       0.0|         0.0|                  0.3|        28.3|                 0.0|       null|\n",
       "|       1| 2019-03-01 00:11:42|  2019-03-01 00:16:40|            1.0|          0.8|       1.0|                 N|          48|          48|           1|        5.5|  3.0|    0.5|       3.0|         0.0|                  0.3|        12.3|                 2.5|       null|\n",
       "+--------+--------------------+---------------------+---------------+-------------+----------+------------------+------------+------------+------------+-----------+-----+-------+----------+------------+---------------------+------------+--------------------+-----------+"
      ]
     },
     "execution_count": 8,
     "metadata": {},
     "output_type": "execute_result"
    }
   ],
   "source": [
    "# reads in the taxi dataset\n",
    "\n",
    "taxidf = spark.read.parquet('../data/raw/tlc_2019')\n",
    "print(taxidf.count(), len(taxidf.columns))\n",
    "taxidf.limit(5)"
   ]
  },
  {
   "cell_type": "code",
   "execution_count": 9,
   "metadata": {},
   "outputs": [
    {
     "data": {
      "text/html": [
       "<table border='1'>\n",
       "<tr><th>month-day-hr</th><th>PULocationID</th><th>journey_time</th><th>trip_distance</th></tr>\n",
       "<tr><td>March-01-00</td><td>145</td><td>0.83</td><td>0.0</td></tr>\n",
       "<tr><td>March-01-00</td><td>95</td><td>11.17</td><td>3.7</td></tr>\n",
       "<tr><td>March-01-00</td><td>249</td><td>33.03</td><td>14.1</td></tr>\n",
       "<tr><td>March-01-00</td><td>138</td><td>17.13</td><td>9.6</td></tr>\n",
       "<tr><td>March-01-00</td><td>48</td><td>4.97</td><td>0.8</td></tr>\n",
       "<tr><td>March-01-00</td><td>246</td><td>4.58</td><td>1.2</td></tr>\n",
       "<tr><td>March-01-00</td><td>239</td><td>4.88</td><td>0.6</td></tr>\n",
       "<tr><td>February-28-19</td><td>132</td><td>9.15</td><td>5.65</td></tr>\n",
       "<tr><td>March-01-00</td><td>229</td><td>4.9</td><td>1.16</td></tr>\n",
       "<tr><td>March-01-00</td><td>137</td><td>4.35</td><td>0.71</td></tr>\n",
       "</table>\n"
      ],
      "text/plain": [
       "+--------------+------------+------------+-------------+\n",
       "|  month-day-hr|PULocationID|journey_time|trip_distance|\n",
       "+--------------+------------+------------+-------------+\n",
       "|   March-01-00|         145|        0.83|          0.0|\n",
       "|   March-01-00|          95|       11.17|          3.7|\n",
       "|   March-01-00|         249|       33.03|         14.1|\n",
       "|   March-01-00|         138|       17.13|          9.6|\n",
       "|   March-01-00|          48|        4.97|          0.8|\n",
       "|   March-01-00|         246|        4.58|          1.2|\n",
       "|   March-01-00|         239|        4.88|          0.6|\n",
       "|February-28-19|         132|        9.15|         5.65|\n",
       "|   March-01-00|         229|         4.9|         1.16|\n",
       "|   March-01-00|         137|        4.35|         0.71|\n",
       "+--------------+------------+------------+-------------+"
      ]
     },
     "execution_count": 9,
     "metadata": {},
     "output_type": "execute_result"
    }
   ],
   "source": [
    "# Transforms taxi data\n",
    "\n",
    "from pyspark.sql.functions import *\n",
    "\n",
    "# used to inner join later\n",
    "taxidf = taxidf.withColumn(\"month-day-hr\", date_format(col(\"tpep_pickup_datetime\"), \"MMMM-dd-HH\"))\n",
    "\n",
    "# used to remove small journeys\n",
    "taxidf = taxidf.withColumn('tpep_pickup_datetime',to_timestamp(col('tpep_pickup_datetime')))\\\n",
    "  .withColumn('tpep_dropoff_datetime', to_timestamp(col('tpep_dropoff_datetime')))\\\n",
    "  .withColumn('journey_time',(col(\"tpep_dropoff_datetime\").cast(\"long\") - col('tpep_pickup_datetime').cast(\"double\"))/60)\n",
    "taxidf = taxidf.withColumn(\"journey_time\", round(col(\"journey_time\"), 2))\n",
    "\n",
    "taxidf = taxidf.select(\"month-day-hr\",\"PULocationID\",\"journey_time\",\"trip_distance\")\n",
    "\n",
    "taxidf.limit(10)"
   ]
  },
  {
   "cell_type": "code",
   "execution_count": 10,
   "metadata": {},
   "outputs": [
    {
     "name": "stdout",
     "output_type": "stream",
     "text": [
      "84598444\n"
     ]
    },
    {
     "name": "stderr",
     "output_type": "stream",
     "text": [
      "                                                                                \r"
     ]
    },
    {
     "name": "stdout",
     "output_type": "stream",
     "text": [
      "47769530\n"
     ]
    },
    {
     "name": "stderr",
     "output_type": "stream",
     "text": [
      "[Stage 42:=======================>                                (7 + 10) / 17]\r"
     ]
    },
    {
     "name": "stdout",
     "output_type": "stream",
     "text": [
      "47647994\n"
     ]
    },
    {
     "name": "stderr",
     "output_type": "stream",
     "text": [
      "                                                                                \r"
     ]
    }
   ],
   "source": [
    "# taxi dataset filtering\n",
    "\n",
    "print(taxidf.count())\n",
    "taxidf = taxidf.filter(col('journey_time') > 10)\n",
    "print(taxidf.count())\n",
    "taxidf = taxidf.filter(col('trip_distance') > 0)\n",
    "print(taxidf.count())"
   ]
  },
  {
   "cell_type": "code",
   "execution_count": 11,
   "metadata": {},
   "outputs": [
    {
     "name": "stderr",
     "output_type": "stream",
     "text": [
      "                                                                                \r"
     ]
    },
    {
     "data": {
      "text/html": [
       "<table border='1'>\n",
       "<tr><th>month-day-hr</th><th>PULocationID</th><th>count</th></tr>\n",
       "<tr><td>February-28-23</td><td>148</td><td>215</td></tr>\n",
       "<tr><td>March-01-01</td><td>37</td><td>2</td></tr>\n",
       "<tr><td>March-01-02</td><td>142</td><td>8</td></tr>\n",
       "<tr><td>March-01-09</td><td>221</td><td>1</td></tr>\n",
       "<tr><td>March-01-12</td><td>228</td><td>2</td></tr>\n",
       "<tr><td>March-01-14</td><td>151</td><td>56</td></tr>\n",
       "<tr><td>April-12-22</td><td>132</td><td>430</td></tr>\n",
       "<tr><td>March-02-00</td><td>223</td><td>2</td></tr>\n",
       "<tr><td>March-02-04</td><td>236</td><td>7</td></tr>\n",
       "<tr><td>March-02-05</td><td>205</td><td>1</td></tr>\n",
       "<tr><td>March-02-07</td><td>215</td><td>6</td></tr>\n",
       "<tr><td>March-02-13</td><td>66</td><td>5</td></tr>\n",
       "<tr><td>March-02-19</td><td>255</td><td>10</td></tr>\n",
       "<tr><td>March-02-20</td><td>126</td><td>1</td></tr>\n",
       "<tr><td>March-03-00</td><td>168</td><td>3</td></tr>\n",
       "<tr><td>March-03-18</td><td>234</td><td>173</td></tr>\n",
       "<tr><td>March-03-07</td><td>263</td><td>22</td></tr>\n",
       "<tr><td>March-03-08</td><td>211</td><td>8</td></tr>\n",
       "<tr><td>March-03-10</td><td>141</td><td>83</td></tr>\n",
       "<tr><td>March-03-10</td><td>40</td><td>4</td></tr>\n",
       "</table>\n",
       "only showing top 20 rows\n"
      ],
      "text/plain": [
       "+--------------+------------+-----+\n",
       "|  month-day-hr|PULocationID|count|\n",
       "+--------------+------------+-----+\n",
       "|February-28-23|         148|  215|\n",
       "|   March-01-01|          37|    2|\n",
       "|   March-01-02|         142|    8|\n",
       "|   March-01-09|         221|    1|\n",
       "|   March-01-12|         228|    2|\n",
       "|   March-01-14|         151|   56|\n",
       "|   April-12-22|         132|  430|\n",
       "|   March-02-00|         223|    2|\n",
       "|   March-02-04|         236|    7|\n",
       "|   March-02-05|         205|    1|\n",
       "|   March-02-07|         215|    6|\n",
       "|   March-02-13|          66|    5|\n",
       "|   March-02-19|         255|   10|\n",
       "|   March-02-20|         126|    1|\n",
       "|   March-03-00|         168|    3|\n",
       "|   March-03-18|         234|  173|\n",
       "|   March-03-07|         263|   22|\n",
       "|   March-03-08|         211|    8|\n",
       "|   March-03-10|         141|   83|\n",
       "|   March-03-10|          40|    4|\n",
       "+--------------+------------+-----+\n",
       "only showing top 20 rows"
      ]
     },
     "execution_count": 11,
     "metadata": {},
     "output_type": "execute_result"
    }
   ],
   "source": [
    "# Gets counts for ever hour-day-month-location combo\n",
    "\n",
    "countdf = taxidf.groupBy(\"month-day-hr\",\"PULocationID\").count()\n",
    "countdf"
   ]
  },
  {
   "cell_type": "code",
   "execution_count": 9,
   "metadata": {},
   "outputs": [
    {
     "name": "stderr",
     "output_type": "stream",
     "text": [
      "                                                                                \r"
     ]
    },
    {
     "data": {
      "text/plain": [
       "1080774"
      ]
     },
     "execution_count": 9,
     "metadata": {},
     "output_type": "execute_result"
    }
   ],
   "source": [
    "countdf.count()"
   ]
  },
  {
   "cell_type": "code",
   "execution_count": 12,
   "metadata": {},
   "outputs": [
    {
     "name": "stderr",
     "output_type": "stream",
     "text": [
      "                                                                                \r"
     ]
    },
    {
     "data": {
      "text/plain": [
       "1032570"
      ]
     },
     "execution_count": 12,
     "metadata": {},
     "output_type": "execute_result"
    }
   ],
   "source": [
    "# Inner join\n",
    "\n",
    "mergedf = countdf.join(tempdf, [\"month-day-hr\"])\n",
    "mergedf.count()"
   ]
  },
  {
   "cell_type": "code",
   "execution_count": 13,
   "metadata": {},
   "outputs": [
    {
     "name": "stderr",
     "output_type": "stream",
     "text": [
      "                                                                                \r"
     ]
    },
    {
     "data": {
      "text/html": [
       "<table border='1'>\n",
       "<tr><th>PULocationID</th><th>count</th><th>temperature(f)</th><th>dew_point_temp(f)</th><th>relative_humidity</th><th>wind_speed</th><th>month</th><th>day</th><th>pickup_hour</th></tr>\n",
       "<tr><td>148</td><td>215</td><td>35.1</td><td>19.0</td><td>51.47</td><td>9.0</td><td>2</td><td>28</td><td>23</td></tr>\n",
       "<tr><td>37</td><td>2</td><td>33.1</td><td>18.0</td><td>53.41</td><td>10.0</td><td>3</td><td>1</td><td>1</td></tr>\n",
       "<tr><td>142</td><td>8</td><td>32.0</td><td>17.1</td><td>53.7</td><td>13.0</td><td>3</td><td>1</td><td>2</td></tr>\n",
       "<tr><td>221</td><td>1</td><td>32.0</td><td>21.9</td><td>65.92</td><td>10.0</td><td>3</td><td>1</td><td>9</td></tr>\n",
       "<tr><td>228</td><td>2</td><td>30.0</td><td>28.0</td><td>92.15</td><td>9.0</td><td>3</td><td>1</td><td>12</td></tr>\n",
       "<tr><td>151</td><td>56</td><td>33.1</td><td>28.9</td><td>84.36</td><td>10.0</td><td>3</td><td>1</td><td>14</td></tr>\n",
       "<tr><td>132</td><td>430</td><td>62.1</td><td>55.9</td><td>80.11</td><td>4.0</td><td>4</td><td>12</td><td>22</td></tr>\n",
       "<tr><td>223</td><td>2</td><td>35.1</td><td>30.0</td><td>81.46</td><td>9.0</td><td>3</td><td>2</td><td>0</td></tr>\n",
       "<tr><td>236</td><td>7</td><td>34.0</td><td>28.9</td><td>81.37</td><td>12.0</td><td>3</td><td>2</td><td>4</td></tr>\n",
       "<tr><td>205</td><td>1</td><td>34.0</td><td>30.9</td><td>88.27</td><td>13.0</td><td>3</td><td>2</td><td>5</td></tr>\n",
       "</table>\n"
      ],
      "text/plain": [
       "+------------+-----+--------------+-----------------+-----------------+----------+-----+---+-----------+\n",
       "|PULocationID|count|temperature(f)|dew_point_temp(f)|relative_humidity|wind_speed|month|day|pickup_hour|\n",
       "+------------+-----+--------------+-----------------+-----------------+----------+-----+---+-----------+\n",
       "|         148|  215|          35.1|             19.0|            51.47|       9.0|    2| 28|         23|\n",
       "|          37|    2|          33.1|             18.0|            53.41|      10.0|    3|  1|          1|\n",
       "|         142|    8|          32.0|             17.1|             53.7|      13.0|    3|  1|          2|\n",
       "|         221|    1|          32.0|             21.9|            65.92|      10.0|    3|  1|          9|\n",
       "|         228|    2|          30.0|             28.0|            92.15|       9.0|    3|  1|         12|\n",
       "|         151|   56|          33.1|             28.9|            84.36|      10.0|    3|  1|         14|\n",
       "|         132|  430|          62.1|             55.9|            80.11|       4.0|    4| 12|         22|\n",
       "|         223|    2|          35.1|             30.0|            81.46|       9.0|    3|  2|          0|\n",
       "|         236|    7|          34.0|             28.9|            81.37|      12.0|    3|  2|          4|\n",
       "|         205|    1|          34.0|             30.9|            88.27|      13.0|    3|  2|          5|\n",
       "+------------+-----+--------------+-----------------+-----------------+----------+-----+---+-----------+"
      ]
     },
     "execution_count": 13,
     "metadata": {},
     "output_type": "execute_result"
    }
   ],
   "source": [
    "mergedf = mergedf.drop(\"month-day-hr\")\n",
    "mergedf.limit(10)"
   ]
  },
  {
   "cell_type": "code",
   "execution_count": 42,
   "metadata": {},
   "outputs": [
    {
     "data": {
      "text/plain": [
       "StructType([StructField('PULocationID', LongType(), True), StructField('count', LongType(), False), StructField('temperature(f)', DoubleType(), True), StructField('dew_point_temp(f)', DoubleType(), True), StructField('relative_humidity', DoubleType(), True), StructField('wind_speed', DoubleType(), True), StructField('month', LongType(), True), StructField('day', LongType(), True), StructField('pickup_hour', LongType(), True)])"
      ]
     },
     "execution_count": 42,
     "metadata": {},
     "output_type": "execute_result"
    }
   ],
   "source": [
    "mergedf.schema"
   ]
  },
  {
   "cell_type": "code",
   "execution_count": 14,
   "metadata": {},
   "outputs": [
    {
     "name": "stderr",
     "output_type": "stream",
     "text": [
      "                                                                                \r"
     ]
    }
   ],
   "source": [
    "mergedf.write.parquet('../data/curated/mergedf.paraquet')"
   ]
  }
 ],
 "metadata": {
  "kernelspec": {
   "display_name": "Python 3.10.4 64-bit",
   "language": "python",
   "name": "python3"
  },
  "language_info": {
   "codemirror_mode": {
    "name": "ipython",
    "version": 3
   },
   "file_extension": ".py",
   "mimetype": "text/x-python",
   "name": "python",
   "nbconvert_exporter": "python",
   "pygments_lexer": "ipython3",
   "version": "3.10.4"
  },
  "latex_envs": {
   "LaTeX_envs_menu_present": true,
   "autoclose": false,
   "autocomplete": true,
   "bibliofile": "biblio.bib",
   "cite_by": "apalike",
   "current_citInitial": 1,
   "eqLabelWithNumbers": true,
   "eqNumInitial": 1,
   "hotkeys": {
    "equation": "Ctrl-E",
    "itemize": "Ctrl-I"
   },
   "labels_anchors": false,
   "latex_user_defs": false,
   "report_style_numbering": false,
   "user_envs_cfg": false
  },
  "toc": {
   "base_numbering": 1,
   "nav_menu": {},
   "number_sections": true,
   "sideBar": true,
   "skip_h1_title": false,
   "title_cell": "Table of Contents",
   "title_sidebar": "Contents",
   "toc_cell": false,
   "toc_position": {},
   "toc_section_display": true,
   "toc_window_display": false
  },
  "varInspector": {
   "cols": {
    "lenName": 16,
    "lenType": 16,
    "lenVar": 40
   },
   "kernels_config": {
    "python": {
     "delete_cmd_postfix": "",
     "delete_cmd_prefix": "del ",
     "library": "var_list.py",
     "varRefreshCmd": "print(var_dic_list())"
    },
    "r": {
     "delete_cmd_postfix": ") ",
     "delete_cmd_prefix": "rm(",
     "library": "var_list.r",
     "varRefreshCmd": "cat(var_dic_list()) "
    }
   },
   "types_to_exclude": [
    "module",
    "function",
    "builtin_function_or_method",
    "instance",
    "_Feature"
   ],
   "window_display": false
  },
  "vscode": {
   "interpreter": {
    "hash": "916dbcbb3f70747c44a77c7bcd40155683ae19c65e1c03b4aa3499c5328201f1"
   }
  }
 },
 "nbformat": 4,
 "nbformat_minor": 4
}
